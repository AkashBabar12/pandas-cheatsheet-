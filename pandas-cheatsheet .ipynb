{
 "cells": [
  {
   "cell_type": "code",
   "execution_count": null,
   "metadata": {
    "_cell_guid": "b1076dfc-b9ad-4769-8c92-a6c4dae69d19",
    "_uuid": "8f2839f25d086af736a60e9eeb907d3b93b6e0e5"
   },
   "outputs": [],
   "source": [
    "# This Python 3 environment comes with many helpful analytics libraries installed\n",
    "# It is defined by the kaggle/python Docker image: https://github.com/kaggle/docker-python\n",
    "# For example, here's several helpful packages to load\n",
    "\n",
    "import numpy as np # linear algebra\n",
    "import pandas as pd # data processing, CSV file I/O (e.g. pd.read_csv)\n",
    "\n",
    "# Input data files are available in the read-only \"../input/\" directory\n",
    "# For example, running this (by clicking run or pressing Shift+Enter) will list all files under the input directory\n",
    "\n",
    "import os\n",
    "for dirname, _, filenames in os.walk('/kaggle/input'):\n",
    "    for filename in filenames:\n",
    "        print(os.path.join(dirname, filename))\n",
    "\n",
    "# You can write up to 5GB to the current directory (/kaggle/working/) that gets preserved as output when you create a version using \"Save & Run All\" \n",
    "# You can also write temporary files to /kaggle/temp/, but they won't be saved outside of the current session"
   ]
  },
  {
   "cell_type": "code",
   "execution_count": null,
   "metadata": {},
   "outputs": [],
   "source": [
    "import pandas\n",
    "import pandas as pd\n",
    "import numpy\n",
    "import numpy as np\n",
    "import random as rn\n",
    "import functools\n",
    "import re\n",
    "\n",
    "import warnings\n",
    "warnings.filterwarnings('ignore')"
   ]
  },
  {
   "cell_type": "markdown",
   "metadata": {
    "_cell_guid": "79c7e3d0-c299-4dcb-8224-4455121ee9b0",
    "_uuid": "d629ff2d2480ee46fbb7e2d37f6b5fab8052498a",
    "collapsed": true
   },
   "source": [
    "\n",
    "<a id=\"top\"></a>\n",
    "\n",
    "<div class=\"list-group\" id=\"list-tab\" role=\"tablist\">\n",
    "\n",
    "<font color=\"teal\" size=+1><b>Content List</b></font>\n",
    "    \n",
    "* [1. Check Pandas Version](#1)\n",
    "* [2. Create Numpy Array: Create three columns with Zero values](#2)\n",
    "* [3. iLoc in Pandas : Print first five rows](#3)\n",
    "* [4. Create Random integer between 2 to 10 with 4 items](#4)\n",
    "* [5. Create Random integer between 0 to 100](#5)\n",
    "* [6. Create Random integer between 2 to 10 with 4 columns](#6)\n",
    "* [7. 2D array with random between 0 and 5](#7)\n",
    "* [8. Create Random integer between 0 to 100 with 10 itmes (2 rows, 5 columns)](#8)\n",
    "* [9. 3 rows, 2 columns in pandas](#9)\n",
    "* [10. Fill Random Science and Math Marks](#10)\n",
    "* [11. CSV to DatRaframe (from_csv)](#11)\n",
    "* [12. CSV to Dataframe (from_csv)](#12)\n",
    "* [13. First 4 rows and 2 columns of CSV](#13)\n",
    "* [14. Show even rows and first three columns](#14)\n",
    "* [15. New columns as sum of all](#15)\n",
    "* [16. Delete Rows of one column where the value is less than 50](#16)\n",
    "* [17. Delete with Query](#17)\n",
    "* [18. Skip single row](#18)\n",
    "* [19. Skip multiple rows](#19)\n",
    "* [20. Select Column by Index](#20)\n",
    "* [21. Skip rows](#21)\n",
    "* [22. String to Dataframe](#22)\n",
    "* [23. New columns as max of other columns](#23)\n",
    "* [24. New columns as max of other columns](#24)\n",
    "* [25. New columns as max of other columns](#25)\n",
    "* [26. Fill with average](#26)\n",
    "* [27. New columns as sum of all](#27)\n",
    "* [28. Unicode issue and fix](#28)\n",
    "* [29. Fill with average](#29)\n",
    "* [30. Last 4 rows](#30)\n",
    "* [31. Expanding Apply](#31)\n",
    "* [32. Get 3 and 4th row](#32)\n",
    "* [33. Last 4th to 1st](#33)\n",
    "* [34. iloc position slice](#34)\n",
    "* [35. Loc - iloc - ix - at - iat](#35)\n",
    "* [36. Random data](#36)\n",
    "* [37. Filter with the value comparison](#37)\n",
    "* [38. Filter between 5 and 10 on col 1](#38)\n",
    "* [39. Filter between 15 to 20](#39)\n",
    "* [40. Filter between 15 to 33](#40)\n",
    "* [41. Custom method and xrnage on dataframe](#41)\n",
    "* [42. Set index with date column](#42)\n",
    "* [43. Change columns based on other columns](#43)\n",
    "* [44. Change multiple columns based on one column values](#44)\n",
    "* [45. Pandas Mask](#45)\n",
    "* [46. Check high or low comparing the column against 5](#46)\n",
    "* [47. Student Marks (Pass or Fail)](#47)\n",
    "* [48. Get passed grades](#48)\n",
    "* [49. Students passed in Language and Math](#49)\n",
    "* [50. Students passed in Language and Science](#50)\n",
    "* [51. Loc with Label oriented slicing](#51)\n",
    "* [52. iloc with positional slicing](#52)\n",
    "* [53. Label between numbers](#53)\n",
    "* [54. Stars with names](#54)\n",
    "* [55. Row label selection Age is above 25 and movies above 25](#55)\n",
    "* [56. Stars in in certain ages](#56)\n",
    "* [57. Inverse opeartor !( above one.45 and below two.50 )](#57)\n",
    "* [58. Apply custom function](#58)\n",
    "* [59. Group by single column](#59)\n",
    "* [60. Creating new Columns using Applymap Sides & applymap](#60)\n",
    "* [61. Replacing some values with mean of the rest of a group](#61)\n",
    "* [62. Students passed in Language or Science (any one subject)](#62)\n",
    "* [63. possible errors: TypeError: 'Series' objects are mutable, thus they cannot be hashed](#63)\n",
    "* [64. argsort Select rows with data closest to certain value using argsort](#64)\n",
    "* [65. argsort with stars](#65)\n",
    "* [66. Argsort with actors - young stars (near by 17)](#66)\n",
    "* [67. Binary operators - Stars with - younger than 19 - very young](#67)\n",
    "* [68. Young, Higher Salary, and Higher Position](#68)\n",
    "* [69. Rename columns](#69)\n",
    "* [70. Add a new column](#70)\n",
    "* [71. Drop a column](#71)\n",
    "* [72. Drop multiple columns](#72)\n",
    "* [73. Drop first and last column](#73)\n",
    "* [74. Delete by pop function](#74)\n",
    "* [75. DataFrame.from_items](#75)\n",
    "* [76. Pandas to list](#76)\n",
    "* [77. Pandas rows to list](#77)\n",
    "* [78. Pandas rows to array](#78)\n",
    "* [79. Pandas rows to map](#79)\n",
    "* [80. Pandas rows to map](#80)\n",
    "* [81. Drop duplicates](#81)\n",
    "* [82. Selecting multiple columns](#82)\n",
    "* [83. Selecting multiple columns](#83)\n",
    "* [84. Row and Column Slicing](#84)\n",
    "* [85. Iterating rows](#85)\n",
    "* [86. Iterating tuples](#86)\n",
    "* [87. Iterating rows and columns](#87)\n",
    "* [88. List of Dictionary to Dataframe](#88)\n",
    "* [89. Is Null](#89)\n",
    "* [90. Sum of all nan](#90)\n",
    "* [91. Sum of all nan rowwise](#91)\n",
    "* [92. Sum of all nan as list](#92)\n",
    "* [93. Change the order of columns](#93)\n",
    "* [94. Drop multiple rows](#94)\n",
    "* [95. Drop multiple rows by row name](#95)\n",
    "* [96. Get group](#96)\n",
    "* [97. Get the the odd row](#97)\n",
    "* [98. Get the even columns](#98)\n",
    "* [99. Odd rows and even columns](#99)\n",
    "* [100. Drop duplicates](#100)\n",
    "* [101. Drop all duplicates](#101)\n",
    "* [102. Basic group by](#102)\n",
    "* [103. Missing Data: Make A'th 3rd coulmn Nan](#103)\n",
    "* [104. Reindex](#104)   \n",
    "* [105. Column reset Nan](#105)  \n",
    "* [105. XY](#105)  \n",
    "* [106. XY](#106)  \n",
    "* [107. Match with isin function](#107)  \n",
    "* [108. Finding specific items by using `isin` function](#108)  \n",
    "* [109. Exclude specific matching](#109)  \n",
    "* [110. Apply a custom function on multiple columns](#110)  \n",
    "* [111. iterrows as tuples](#111)  \n",
    "* [112. Dataframe with NaN](#112)  \n",
    "* [113. Simple Dataframe with NaN](#113)  \n",
    "* [114. Pandas and Date with Range](#114)  \n",
    "* [115. Pandas and Numpy Repeat](#115)  \n",
    "* [116. read_sql in Pandas](#116)  \n",
    "* [117. Get a single value by iat](#117)  \n",
    "* [118. Get last n elements](#118)  \n",
    "* [119. Add data one by one by using loc function](#119)  \n",
    "* [120. Convert country in Dataframe](#120)  \n",
    "* [121. Group by multiple columns](#121)  \n",
    "* [122. Compare two dataframes](#122)  \n",
    "* [123. Difference between datetime by only seconds or dates](#123)  \n",
    "* [124. Get dates and delta days in Dataframe](#124)  \n",
    "* [125. Get dates and delta days in Dataframe](#125)  \n",
    "* [126. Date addition with time delta](#126)  \n",
    "* [127. Converting Pandas innner list to numpy array without the word `list`](#127)  \n",
    "* [128. Append series to existing Dataframe](#128)  \n",
    "* [129. Cumulative sum with group by with multiple values](#129)  \n",
    "* [130. Clean URL in Pandas String (remove string after specific item)](#130)  \n",
    "* [131. Find any matching value](#131)      "
   ]
  },
  {
   "cell_type": "code",
   "execution_count": null,
   "metadata": {},
   "outputs": [],
   "source": [
    "# for i in range(105, 132):\n",
    "#     print(f'* [{i}. XY](#{i})  ')"
   ]
  },
  {
   "cell_type": "code",
   "execution_count": null,
   "metadata": {},
   "outputs": [],
   "source": [
    "import pandas\n",
    "import pandas as pd\n",
    "import numpy\n",
    "import numpy as np\n",
    "import random as rn\n",
    "import functools\n",
    "import re"
   ]
  },
  {
   "cell_type": "markdown",
   "metadata": {},
   "source": [
    "\n",
    "\n"
   ]
  },
  {
   "cell_type": "markdown",
   "metadata": {},
   "source": [
    "<div style=\"\">\n",
    "    <div style=\"float: left; width: 80%;\">\n",
    "        <a id=\"1\"></a>\n",
    "        <font><b>Task 1:</b></font>\n",
    "        <br><br>\n",
    "        Check Pandas Version\n",
    "    </div>\n",
    "    <div style=\"float: right;\">\n",
    "        <a href=\"#top\" class=\"btn btn-primary btn-sm\" role=\"button\" aria-pressed=\"true\" style=\"color:white\" data-toggle=\"popover\" title=\"go to Top\">Go to Top</a>\n",
    "    </div>\n",
    "    <br style=\"clear: left;\" />\n",
    "</div>"
   ]
  },
  {
   "cell_type": "code",
   "execution_count": null,
   "metadata": {},
   "outputs": [],
   "source": [
    "print('Task 1:')  \n",
    "print(pd.__version__)"
   ]
  },
  {
   "cell_type": "markdown",
   "metadata": {},
   "source": [
    "<div style=\"\">\n",
    "    <div style=\"float: left; width: 80%;\">\n",
    "        <a id=\"2\"></a>\n",
    "        <font><b>Task 2:</b></font>\n",
    "        <br><br>\n",
    "        Create Numpy Array\n",
    "        <br>\n",
    "        Create three columns with Zero values\n",
    "    </div>\n",
    "    <div style=\"float: right;\">\n",
    "        <a href=\"#top\" class=\"btn btn-primary btn-sm\" role=\"button\" aria-pressed=\"true\" style=\"color:white\" data-toggle=\"popover\" title=\"go to Top\">Go to Top</a>\n",
    "    </div>\n",
    "    <br style=\"clear: left;\" />\n",
    "</div>"
   ]
  },
  {
   "cell_type": "code",
   "execution_count": null,
   "metadata": {},
   "outputs": [],
   "source": [
    "print('Task 2:')\n",
    "dtype = [('Col1','int32'), ('Col2','float32'), ('Col3','float32')]\n",
    "values = numpy.zeros(20, dtype=dtype)\n",
    "index = ['Row'+str(i) for i in range(1, len(values)+1)]\n",
    "\n",
    "df = pandas.DataFrame(values, index=index)\n",
    "print(df)\n",
    "\n",
    "df = pandas.DataFrame(values)\n",
    "print(df)"
   ]
  },
  {
   "cell_type": "markdown",
   "metadata": {},
   "source": [
    "<div style=\"\">\n",
    "    <div style=\"float: left; width: 80%;\">\n",
    "        <a id=\"3\"></a>\n",
    "        <font><b>Task 3:</b></font>\n",
    "        <br><br>\n",
    "        iLoc in Pandas\n",
    "        <br>\n",
    "        Print first five rows\n",
    "    </div>\n",
    "    <div style=\"float: right;\">\n",
    "        <a href=\"#top\" class=\"btn btn-primary btn-sm\" role=\"button\" aria-pressed=\"true\" style=\"color:white\" data-toggle=\"popover\" title=\"go to Top\">Go to Top</a>\n",
    "    </div>\n",
    "    <br style=\"clear: left;\" />\n",
    "</div>"
   ]
  },
  {
   "cell_type": "code",
   "execution_count": null,
   "metadata": {},
   "outputs": [],
   "source": [
    "print('Task 3:')\n",
    "df = pandas.read_csv('../input/datasets-for-pandas/data1.csv', sep=';', header=None)\n",
    "print(df.iloc[:4]) # 0 - 4 = 5 values"
   ]
  },
  {
   "cell_type": "markdown",
   "metadata": {},
   "source": [
    "<div style=\"\">\n",
    "    <div style=\"float: left; width: 80%;\">\n",
    "        <a id=\"4\"></a>\n",
    "        <font><b>Task 4:</b></font>\n",
    "        <br><br>\n",
    "        Create Random integer between 2 to 10 with 4 items\n",
    "    </div>\n",
    "    <div style=\"float: right;\">\n",
    "        <a href=\"#top\" class=\"btn btn-primary btn-sm\" role=\"button\" aria-pressed=\"true\" style=\"color:white\" data-toggle=\"popover\" title=\"go to Top\">Go to Top</a>\n",
    "    </div>\n",
    "    <br style=\"clear: left;\" />\n",
    "</div> "
   ]
  },
  {
   "cell_type": "code",
   "execution_count": null,
   "metadata": {},
   "outputs": [],
   "source": [
    "print('Task 4:')\n",
    "values = np.random.randint(2, 10, size=4)\n",
    "print(values)"
   ]
  },
  {
   "cell_type": "markdown",
   "metadata": {},
   "source": [
    "<div style=\"\">\n",
    "    <div style=\"float: left; width: 80%;\">\n",
    "        <a id=\"5\"></a>\n",
    "        <font><b>Task 5:</b></font>\n",
    "        <br><br>\n",
    "        Create Random integer between 0 to 100 \n",
    "    </div>\n",
    "    <div style=\"float: right;\">\n",
    "        <a href=\"#top\" class=\"btn btn-primary btn-sm\" role=\"button\" aria-pressed=\"true\" style=\"color:white\" data-toggle=\"popover\" title=\"go to Top\">Go to Top</a>\n",
    "    </div>\n",
    "    <br style=\"clear: left;\" />\n",
    "</div>\n"
   ]
  },
  {
   "cell_type": "code",
   "execution_count": null,
   "metadata": {},
   "outputs": [],
   "source": [
    "print('Task 5:')\n",
    "df = pd.DataFrame(np.random.randint(0, 100, size=(3, 2)), columns=list('xy'))\n",
    "print(df)"
   ]
  },
  {
   "cell_type": "markdown",
   "metadata": {},
   "source": [
    "<div style=\"\">\n",
    "    <div style=\"float: left; width: 80%;\">\n",
    "        <a id=\"6\"></a>\n",
    "        <font><b>Task 6:</b></font>\n",
    "        <br><br>\n",
    "        Create Random integer between 2 to 10 with 4 columns\n",
    "    </div>\n",
    "    <div style=\"float: right;\">\n",
    "        <a href=\"#top\" class=\"btn btn-primary btn-sm\" role=\"button\" aria-pressed=\"true\" style=\"color:white\" data-toggle=\"popover\" title=\"go to Top\">Go to Top</a>\n",
    "    </div>\n",
    "    <br style=\"clear: left;\" />\n",
    "</div>"
   ]
  },
  {
   "cell_type": "code",
   "execution_count": null,
   "metadata": {},
   "outputs": [],
   "source": [
    "print('Task 6:')\n",
    "df = pd.DataFrame(np.random.randint(0, 100, size=(2, 4)), columns=['A', 'B', 'C', 'D'])\n",
    "print(df)"
   ]
  },
  {
   "cell_type": "markdown",
   "metadata": {},
   "source": [
    "<div style=\"\">\n",
    "    <div style=\"float: left; width: 80%;\">\n",
    "        <a id=\"7\"></a>\n",
    "        <font><b>Task 7:</b></font>\n",
    "        <br><br>\n",
    "        2D array with random between 0 and 5\n",
    "    </div>\n",
    "    <div style=\"float: right;\">\n",
    "        <a href=\"#top\" class=\"btn btn-primary btn-sm\" role=\"button\" aria-pressed=\"true\" style=\"color:white\" data-toggle=\"popover\" title=\"go to Top\">Go to Top</a>\n",
    "    </div>\n",
    "    <br style=\"clear: left;\" />\n",
    "</div>"
   ]
  },
  {
   "cell_type": "code",
   "execution_count": null,
   "metadata": {},
   "outputs": [],
   "source": [
    "print('Task 7:')\n",
    "values = np.random.randint(5, size=(2, 4))\n",
    "print(values)\n",
    "print(type(values))"
   ]
  },
  {
   "cell_type": "markdown",
   "metadata": {},
   "source": [
    "<div style=\"\">\n",
    "    <div style=\"float: left; width: 80%;\">\n",
    "        <a id=\"8\"></a>\n",
    "        <font><b>Task 8:</b></font>\n",
    "        <br><br>\n",
    "        Create Random integer between 0 to 100 with 10 itmes (2 rows, 5 columns)\n",
    "    </div>\n",
    "    <div style=\"float: right;\">\n",
    "        <a href=\"#top\" class=\"btn btn-primary btn-sm\" role=\"button\" aria-pressed=\"true\" style=\"color:white\" data-toggle=\"popover\" title=\"go to Top\">Go to Top</a>\n",
    "    </div>\n",
    "    <br style=\"clear: left;\" />\n",
    "</div>"
   ]
  },
  {
   "cell_type": "code",
   "execution_count": null,
   "metadata": {},
   "outputs": [],
   "source": [
    "print('Task 8:')\n",
    "df = pd.DataFrame(np.random.randint(0, 100, size=(3, 5)), columns=['Toronto', 'Ottawa', 'Calgary', 'Montreal', 'Quebec'])\n",
    "print(df)"
   ]
  },
  {
   "cell_type": "markdown",
   "metadata": {},
   "source": [
    "<div style=\"\">\n",
    "    <div style=\"float: left; width: 80%;\">\n",
    "        <a id=\"9\"></a>\n",
    "        <font><b>Task 9:</b></font>\n",
    "        <br><br>\n",
    "        3 rows, 2 columns in pandas\n",
    "        <br>\n",
    "        1st column = random between 10 to 20\n",
    "        <br>\n",
    "        2nd column = random between 80 and 90\n",
    "        <br>\n",
    "        3rd column = random between 40 and 50 \n",
    "    </div>\n",
    "    <div style=\"float: right;\">\n",
    "        <a href=\"#top\" class=\"btn btn-primary btn-sm\" role=\"button\" aria-pressed=\"true\" style=\"color:white\" data-toggle=\"popover\" title=\"go to Top\">Go to Top</a>\n",
    "    </div>\n",
    "    <br style=\"clear: left;\" />\n",
    "</div>"
   ]
  },
  {
   "cell_type": "code",
   "execution_count": null,
   "metadata": {},
   "outputs": [],
   "source": [
    "print('Task 9:')  \n",
    "dtype = [('One','int32'), ('Two','int32')]\n",
    "values = np.zeros(3, dtype=dtype)\n",
    "index = ['Row'+str(i) for i in range(1, 4)]\n",
    "\n",
    "df = pandas.DataFrame(values, index=index)\n",
    "print(df)"
   ]
  },
  {
   "cell_type": "markdown",
   "metadata": {},
   "source": [
    "<div style=\"\">\n",
    "    <div style=\"float: left; width: 80%;\">\n",
    "        <a id=\"10\"></a>\n",
    "        <font><b>Task 10:</b></font>\n",
    "        <br><br>\n",
    "        Fill Random Science and Math Marks\n",
    "        <br><br>\n",
    "        (has some bugs in it)\n",
    "    </div>\n",
    "    <div style=\"float: right;\">\n",
    "        <a href=\"#top\" class=\"btn btn-primary btn-sm\" role=\"button\" aria-pressed=\"true\" style=\"color:white\" data-toggle=\"popover\" title=\"go to Top\">Go to Top</a>\n",
    "    </div>\n",
    "    <br style=\"clear: left;\" />\n",
    "</div>\n"
   ]
  },
  {
   "cell_type": "code",
   "execution_count": null,
   "metadata": {},
   "outputs": [],
   "source": [
    "print('Task 10:')  \n",
    "dtype = [('Science','int32'), ('Maths','int32')]\n",
    "values = np.zeros(3, dtype=dtype)\n",
    "\n",
    "#print(type(dtype))\n",
    "#values = np.random.randint(5, size=(3, 2))\n",
    "#print(values)\n",
    "#index = ['Row'+str(i) for i in range(1, 4)]\n",
    "\n",
    "df = pandas.DataFrame(values, index=index)\n",
    "print(df)"
   ]
  },
  {
   "cell_type": "markdown",
   "metadata": {},
   "source": [
    "<div style=\"\">\n",
    "    <div style=\"float: left; width: 80%;\">\n",
    "        <a id=\"11\"></a>\n",
    "        <font><b>Task 11:</b></font>\n",
    "        <br><br>\n",
    "        CSV to DatRaframe (from_csv)\n",
    "        <br>\n",
    "        Note: from_csv is Deprecated since version 0.21.0: Use pandas.read_csv() instead.\n",
    "    </div>\n",
    "    <div style=\"float: right;\">\n",
    "        <a href=\"#top\" class=\"btn btn-primary btn-sm\" role=\"button\" aria-pressed=\"true\" style=\"color:white\" data-toggle=\"popover\" title=\"go to Top\">Go to Top</a>\n",
    "    </div>\n",
    "    <br style=\"clear: left;\" />\n",
    "</div>"
   ]
  },
  {
   "cell_type": "code",
   "execution_count": null,
   "metadata": {},
   "outputs": [],
   "source": [
    "print('Task 11:')  \n",
    "\n",
    "csv = pd.read_csv('../input/datasets-for-pandas/uk-500.csv')\n",
    "print(csv.head())"
   ]
  },
  {
   "cell_type": "markdown",
   "metadata": {},
   "source": [
    "<div style=\"\">\n",
    "    <div style=\"float: left; width: 80%;\">\n",
    "        <a id=\"12\"></a>\n",
    "        <font><b>Task 12:</b></font>\n",
    "        <br><br>\n",
    "        CSV to Dataframe (from_csv\n",
    "    </div>\n",
    "    <div style=\"float: right;\">\n",
    "        <a href=\"#top\" class=\"btn btn-primary btn-sm\" role=\"button\" aria-pressed=\"true\" style=\"color:white\" data-toggle=\"popover\" title=\"go to Top\">Go to Top</a>\n",
    "    </div>\n",
    "    <br style=\"clear: left;\" />\n",
    "</div>"
   ]
  },
  {
   "cell_type": "code",
   "execution_count": null,
   "metadata": {},
   "outputs": [],
   "source": [
    "print('Task 12:')  \n",
    "#df = df.from_csv(path, header, sep, index_col, parse_dates, encoding, tupleize_cols, infer_datetime_format)\n",
    "df = pd.read_csv('../input/datasets-for-pandas/uk-500.csv')\n",
    "print(df.head())"
   ]
  },
  {
   "cell_type": "markdown",
   "metadata": {},
   "source": [
    "<div style=\"\">\n",
    "    <div style=\"float: left; width: 80%;\">\n",
    "        <a id=\"13\"></a>\n",
    "        <font><b>Task 13:</b></font>\n",
    "        <br><br>\n",
    "        First 4 rows and 2 columns of CSV\n",
    "    </div>\n",
    "    <div style=\"float: right;\">\n",
    "        <a href=\"#top\" class=\"btn btn-primary btn-sm\" role=\"button\" aria-pressed=\"true\" style=\"color:white\" data-toggle=\"popover\" title=\"go to Top\">Go to Top</a>\n",
    "    </div>\n",
    "    <br style=\"clear: left;\" />\n",
    "</div>"
   ]
  },
  {
   "cell_type": "code",
   "execution_count": null,
   "metadata": {},
   "outputs": [],
   "source": [
    "print('Task 13:') \n",
    "df = pandas.read_csv('../input/datasets-for-pandas/data1.csv', sep=',')\n",
    "print(df.shape) \n",
    "#print(df[2:14])\n",
    "print(df.iloc[0:4,0:2])\n",
    "#print(df[df.columns[0]])"
   ]
  },
  {
   "cell_type": "markdown",
   "metadata": {},
   "source": [
    "<div style=\"\">\n",
    "    <div style=\"float: left; width: 80%;\">\n",
    "        <a id=\"14\"></a>\n",
    "        <font><b>Task 14:</b></font>\n",
    "        <br><br>\n",
    "        Show even rows and first three columns\n",
    "    </div>\n",
    "    <div style=\"float: right;\">\n",
    "        <a href=\"#top\" class=\"btn btn-primary btn-sm\" role=\"button\" aria-pressed=\"true\" style=\"color:white\" data-toggle=\"popover\" title=\"go to Top\">Go to Top</a>\n",
    "    </div>\n",
    "    <br style=\"clear: left;\" />\n",
    "</div>"
   ]
  },
  {
   "cell_type": "code",
   "execution_count": null,
   "metadata": {},
   "outputs": [],
   "source": [
    "print('Task 14:') \n",
    "df = pandas.read_csv('/kaggle/input/datasets-for-pandas/abc.csv', sep=',', encoding = \"utf-8\")\n",
    "print(df.shape)\n",
    "\n",
    "print(df.iloc[::2, 0:3])    "
   ]
  },
  {
   "cell_type": "markdown",
   "metadata": {},
   "source": [
    "<div style=\"\">\n",
    "    <div style=\"float: left; width: 80%;\">\n",
    "        <a id=\"15\"></a>\n",
    "        <font><b>Task 15:</b></font>\n",
    "        <br><br>\n",
    "        New columns as sum of all\n",
    "    </div>\n",
    "    <div style=\"float: right;\">\n",
    "        <a href=\"#top\" class=\"btn btn-primary btn-sm\" role=\"button\" aria-pressed=\"true\" style=\"color:white\" data-toggle=\"popover\" title=\"go to Top\">Go to Top</a>\n",
    "    </div>\n",
    "    <br style=\"clear: left;\" />\n",
    "</div>"
   ]
  },
  {
   "cell_type": "code",
   "execution_count": null,
   "metadata": {},
   "outputs": [],
   "source": [
    "print('Task 15:') \n",
    "df = pandas.read_csv('/kaggle/input/datasets-for-pandas/abc.csv', sep=',', encoding = \"utf-8\")\n",
    "print(df.shape)\n",
    "print(df) \n",
    "df['total'] = df.sum(axis=1)\n",
    "\n",
    "print(df)"
   ]
  },
  {
   "cell_type": "markdown",
   "metadata": {},
   "source": [
    "<div style=\"\">\n",
    "    <div style=\"float: left; width: 80%;\">\n",
    "        <a id=\"16\"></a>\n",
    "        <font><b>Task 16:</b></font>\n",
    "        <br><br>\n",
    "        Delete Rows of one column where the value is less than 50\n",
    "    </div>\n",
    "    <div style=\"float: right;\">\n",
    "        <a href=\"#top\" class=\"btn btn-primary btn-sm\" role=\"button\" aria-pressed=\"true\" style=\"color:white\" data-toggle=\"popover\" title=\"go to Top\">Go to Top</a>\n",
    "    </div>\n",
    "    <br style=\"clear: left;\" />\n",
    "</div>"
   ]
  },
  {
   "cell_type": "code",
   "execution_count": null,
   "metadata": {},
   "outputs": [],
   "source": [
    "print('Task 16:') \n",
    "df = pandas.read_csv('/kaggle/input/datasets-for-pandas/abc.csv', sep=',', encoding = \"utf-8\")\n",
    "print(df.shape)\n",
    "print(df) \n",
    "\n",
    "df = df[df.science > 50]\n",
    "print(df)"
   ]
  },
  {
   "cell_type": "markdown",
   "metadata": {},
   "source": [
    "<div style=\"\">\n",
    "    <div style=\"float: left; width: 80%;\">\n",
    "        <a id=\"17\"></a>\n",
    "        <font><b>Task 17:</b></font>\n",
    "        <br><br>\n",
    "        Delete with Query\n",
    "        <br>Note: Query doesn't work if your column has space in it\n",
    "    </div>\n",
    "    <div style=\"float: right;\">\n",
    "        <a href=\"#top\" class=\"btn btn-primary btn-sm\" role=\"button\" aria-pressed=\"true\" style=\"color:white\" data-toggle=\"popover\" title=\"go to Top\">Go to Top</a>\n",
    "    </div>\n",
    "    <br style=\"clear: left;\" />\n",
    "</div>"
   ]
  },
  {
   "cell_type": "code",
   "execution_count": null,
   "metadata": {},
   "outputs": [],
   "source": [
    "print('Task 17:') \n",
    "df = pandas.read_csv('/kaggle/input/datasets-for-pandas/abc.csv', sep=',', encoding = \"utf-8\")\n",
    "print(df.shape)\n",
    "print(df) \n",
    "\n",
    "df = df.query('science > 45')\n",
    "print(df)"
   ]
  },
  {
   "cell_type": "markdown",
   "metadata": {},
   "source": [
    "<div style=\"\">\n",
    "    <div style=\"float: left; width: 80%;\">\n",
    "        <a id=\"18\"></a>\n",
    "        <font><b>Task 18:</b></font>\n",
    "        <br><br>\n",
    "        Skip single row\n",
    "    </div>\n",
    "    <div style=\"float: right;\">\n",
    "        <a href=\"#top\" class=\"btn btn-primary btn-sm\" role=\"button\" aria-pressed=\"true\" style=\"color:white\" data-toggle=\"popover\" title=\"go to Top\">Go to Top</a>\n",
    "    </div>\n",
    "    <br style=\"clear: left;\" />\n",
    "</div>"
   ]
  },
  {
   "cell_type": "code",
   "execution_count": null,
   "metadata": {},
   "outputs": [],
   "source": [
    "print('Task 18:') \n",
    "df = pandas.read_csv('/kaggle/input/datasets-for-pandas/abc.csv', sep=',', encoding = \"utf-8\", skiprows=[5])\n",
    "print(df.shape)\n",
    "print(df)"
   ]
  },
  {
   "cell_type": "markdown",
   "metadata": {},
   "source": [
    "<div style=\"\">\n",
    "    <div style=\"float: left; width: 80%;\">\n",
    "        <a id=\"19\"></a>\n",
    "        <font><b>Task 19:</b></font>\n",
    "        <br><br>\n",
    "        Skip multiple rows\n",
    "    </div>\n",
    "    <div style=\"float: right;\">\n",
    "        <a href=\"#top\" class=\"btn btn-primary btn-sm\" role=\"button\" aria-pressed=\"true\" style=\"color:white\" data-toggle=\"popover\" title=\"go to Top\">Go to Top</a>\n",
    "    </div>\n",
    "    <br style=\"clear: left;\" />\n",
    "</div>"
   ]
  },
  {
   "cell_type": "code",
   "execution_count": null,
   "metadata": {},
   "outputs": [],
   "source": [
    "print('Task 19:') \n",
    "df = pandas.read_csv('/kaggle/input/datasets-for-pandas/abc.csv', sep=',', encoding = \"utf-8\", skiprows=[1, 5, 7])\n",
    "print(df.shape)\n",
    "#print(df) \n",
    "\n",
    "#df = df[df[[1]] > 45]\n",
    "print(df)"
   ]
  },
  {
   "cell_type": "markdown",
   "metadata": {},
   "source": [
    "<div style=\"\">\n",
    "    <div style=\"float: left; width: 80%;\">\n",
    "        <a id=\"20\"></a>\n",
    "        <font><b>Task 20:</b></font>\n",
    "        <br><br>\n",
    "        Select Column by Index\n",
    "        <br>\n",
    "        <br>Note:\n",
    "        <br>df[[1]] doesn't work in Pandas updated version (need to double check)\n",
    "        <br>\n",
    "        New columns as sum of all\n",
    "    </div>\n",
    "    <div style=\"float: right;\">\n",
    "        <a href=\"#top\" class=\"btn btn-primary btn-sm\" role=\"button\" aria-pressed=\"true\" style=\"color:white\" data-toggle=\"popover\" title=\"go to Top\">Go to Top</a>\n",
    "    </div>\n",
    "    <br style=\"clear: left;\" />\n",
    "</div>"
   ]
  },
  {
   "cell_type": "code",
   "execution_count": null,
   "metadata": {},
   "outputs": [],
   "source": [
    "print('Task 20:') \n",
    "df = pandas.read_csv('/kaggle/input/datasets-for-pandas/abc.csv', sep=',', encoding = \"utf-8\")\n",
    "print(df.shape)\n",
    "print(df) \n",
    "\n",
    "#df = df[int(df.columns[2]) > 45]\n",
    "print(df)\n",
    "print(type(df.columns[2]))"
   ]
  },
  {
   "cell_type": "markdown",
   "metadata": {},
   "source": [
    "<div style=\"\">\n",
    "    <div style=\"float: left; width: 80%;\">\n",
    "        <a id=\"21\"></a>\n",
    "        <font><b>Task 21:</b></font>\n",
    "        <br><br>\n",
    "        Skip rows\n",
    "        <br>Note:\n",
    "        <br>df[[1]] doesn't work in Pandas updated version (need to double check)\n",
    "    </div>\n",
    "    <div style=\"float: right;\">\n",
    "        <a href=\"#top\" class=\"btn btn-primary btn-sm\" role=\"button\" aria-pressed=\"true\" style=\"color:white\" data-toggle=\"popover\" title=\"go to Top\">Go to Top</a>\n",
    "    </div>\n",
    "    <br style=\"clear: left;\" />\n",
    "</div>"
   ]
  },
  {
   "cell_type": "code",
   "execution_count": null,
   "metadata": {},
   "outputs": [],
   "source": [
    "print('Task 21:') \n",
    "df = pandas.read_csv('/kaggle/input/datasets-for-pandas/abc.csv', sep=',', encoding = \"utf-8\", skiprows=[0])\n",
    "print(df.shape)\n",
    "print(df) \n",
    "\n",
    "#df = df[int(df.columns[2]) > 45]\n",
    "#print(df)\n",
    "print(df.columns[2])"
   ]
  },
  {
   "cell_type": "markdown",
   "metadata": {},
   "source": [
    "<div style=\"\">\n",
    "    <div style=\"float: left; width: 80%;\">\n",
    "        <a id=\"22\"></a>\n",
    "        <font><b>Task 22:</b></font>\n",
    "        <br><br>\n",
    "        String to Dataframe\n",
    "        <br>Note:\n",
    "        <br>df[[1]] doesn't work in Pandas updated version (need to double check)\n",
    "    </div>\n",
    "    <div style=\"float: right;\">\n",
    "        <a href=\"#top\" class=\"btn btn-primary btn-sm\" role=\"button\" aria-pressed=\"true\" style=\"color:white\" data-toggle=\"popover\" title=\"go to Top\">Go to Top</a>\n",
    "    </div>\n",
    "    <br style=\"clear: left;\" />\n",
    "</div>"
   ]
  },
  {
   "cell_type": "code",
   "execution_count": null,
   "metadata": {},
   "outputs": [],
   "source": [
    "print('Task 22:')\n",
    "from io import StringIO\n",
    "\n",
    "s = \"\"\"\n",
    "        1, 2\n",
    "        3, 4\n",
    "        5, 6\n",
    "    \"\"\"\n",
    "\n",
    "df = pd.read_csv(StringIO(s), header=None)\n",
    "\n",
    "print(df.shape)\n",
    "print(df)"
   ]
  },
  {
   "cell_type": "markdown",
   "metadata": {},
   "source": [
    "<div style=\"\">\n",
    "    <div style=\"float: left; width: 80%;\">\n",
    "        <a id=\"23\"></a>\n",
    "        <font><b>Task 23:</b></font>\n",
    "        <br><br>\n",
    "        New columns as max of other columns\n",
    "        <br>float to int used\n",
    "    </div>\n",
    "    <div style=\"float: right;\">\n",
    "        <a href=\"#top\" class=\"btn btn-primary btn-sm\" role=\"button\" aria-pressed=\"true\" style=\"color:white\" data-toggle=\"popover\" title=\"go to Top\">Go to Top</a>\n",
    "    </div>\n",
    "    <br style=\"clear: left;\" />\n",
    "</div>"
   ]
  },
  {
   "cell_type": "code",
   "execution_count": null,
   "metadata": {},
   "outputs": [],
   "source": [
    "print('Task 23:') \n",
    "df = pandas.read_csv('/kaggle/input/datasets-for-pandas/abc.csv', sep=',', encoding = \"utf-8\")\n",
    "print(df.shape)\n",
    "df['sum'] = df.sum(axis=1)\n",
    "df['max'] = df.max(axis=1)\n",
    "df['min'] = df.min(axis=1)\n",
    "df['average'] = df.mean(axis=1).astype(int)\n",
    "print(df)"
   ]
  },
  {
   "cell_type": "markdown",
   "metadata": {},
   "source": [
    "<div style=\"\">\n",
    "    <div style=\"float: left; width: 80%;\">\n",
    "        <a id=\"24\"></a>\n",
    "        <font><b>Task 24:</b></font>\n",
    "        <br><br>\n",
    "        New columns as max of other columns\n",
    "<br>float to int used\n",
    "<br>Math is considered more, so double the marks for maths\n",
    "    </div>\n",
    "    <div style=\"float: right;\">\n",
    "        <a href=\"#top\" class=\"btn btn-primary btn-sm\" role=\"button\" aria-pressed=\"true\" style=\"color:white\" data-toggle=\"popover\" title=\"go to Top\">Go to Top</a>\n",
    "    </div>\n",
    "    <br style=\"clear: left;\" />\n",
    "</div>"
   ]
  },
  {
   "cell_type": "code",
   "execution_count": null,
   "metadata": {},
   "outputs": [],
   "source": [
    "def apply_math_special(row):\n",
    "    return (row.maths * 2 + row.language / 2 + row.history / 3 + row.science) / 4                \n",
    "\n",
    "print('Task 24:') \n",
    "df = pandas.read_csv('/kaggle/input/datasets-for-pandas/abc.csv', sep=',', encoding = \"utf-8\")\n",
    "print(df.shape)\n",
    "df['sum'] = df.sum(axis=1)\n",
    "df['max'] = df.max(axis=1)\n",
    "df['min'] = df.min(axis=1)\n",
    "df['average'] = df.mean(axis=1).astype(int)\n",
    "df['math_special'] = df.apply(apply_math_special, axis=1).astype(int)\n",
    "print(df)"
   ]
  },
  {
   "cell_type": "markdown",
   "metadata": {},
   "source": [
    "<div style=\"\">\n",
    "    <div style=\"float: left; width: 80%;\">\n",
    "        <a id=\"25\"></a>\n",
    "        <font><b>Task 25:</b></font>\n",
    "        <br><br>\n",
    "        New columns as max of other columns\n",
    "<br>35 marks considered as pass \n",
    "<br>If the student fails in math, consider fail\n",
    "<br>If the student passes in language and science, consider as pass\n",
    "    </div>\n",
    "    <div style=\"float: right;\">\n",
    "        <a href=\"#top\" class=\"btn btn-primary btn-sm\" role=\"button\" aria-pressed=\"true\" style=\"color:white\" data-toggle=\"popover\" title=\"go to Top\">Go to Top</a>\n",
    "    </div>\n",
    "    <br style=\"clear: left;\" />\n",
    "</div>"
   ]
  },
  {
   "cell_type": "code",
   "execution_count": null,
   "metadata": {},
   "outputs": [],
   "source": [
    "def pass_one_subject(row):\n",
    "    if(row.maths > 34):\n",
    "        return 'Pass'\n",
    "    if(row.language > 34 and row.science > 34):\n",
    "        return 'Pass'\n",
    "    \n",
    "    return 'Fail'                \n",
    "\n",
    "print('Task 25:') \n",
    "df = pandas.read_csv('/kaggle/input/datasets-for-pandas/abc.csv', sep=',', encoding = \"utf-8\")\n",
    "print(df.shape)   \n",
    "\n",
    "df['pass_one'] = df.apply(pass_one_subject, axis=1)\n",
    "print(df)"
   ]
  },
  {
   "cell_type": "markdown",
   "metadata": {},
   "source": [
    "<div style=\"\">\n",
    "    <div style=\"float: left; width: 80%;\">\n",
    "        <a id=\"26\"></a>\n",
    "        <font><b>Task 26:</b></font>\n",
    "        <br><br>\n",
    "        Fill with average\n",
    "    </div>\n",
    "    <div style=\"float: right;\">\n",
    "        <a href=\"#top\" class=\"btn btn-primary btn-sm\" role=\"button\" aria-pressed=\"true\" style=\"color:white\" data-toggle=\"popover\" title=\"go to Top\">Go to Top</a>\n",
    "    </div>\n",
    "    <br style=\"clear: left;\" />\n",
    "</div> "
   ]
  },
  {
   "cell_type": "code",
   "execution_count": null,
   "metadata": {},
   "outputs": [],
   "source": [
    "print('Task 26:') \n",
    "df = pandas.read_csv('/kaggle/input/datasets-for-pandas/abc2.csv', sep=',', encoding = \"utf-8\")\n",
    "print(df.shape)   \n",
    "print(df)\n",
    "df.fillna(df.mean(), inplace=True)\n",
    "\n",
    "#df['pass_one'] = df.apply(pass_one_subject, axis=1)\n",
    "print(df)"
   ]
  },
  {
   "cell_type": "markdown",
   "metadata": {},
   "source": [
    "<div style=\"\">\n",
    "    <div style=\"float: left; width: 80%;\">\n",
    "        <a id=\"27\"></a>\n",
    "        <font><b>Task 27:</b></font>\n",
    "        <br><br>\n",
    "        New columns as sum of all\n",
    "    </div>\n",
    "    <div style=\"float: right;\">\n",
    "        <a href=\"#top\" class=\"btn btn-primary btn-sm\" role=\"button\" aria-pressed=\"true\" style=\"color:white\" data-toggle=\"popover\" title=\"go to Top\">Go to Top</a>\n",
    "    </div>\n",
    "    <br style=\"clear: left;\" />\n",
    "</div> "
   ]
  },
  {
   "cell_type": "code",
   "execution_count": null,
   "metadata": {},
   "outputs": [],
   "source": [
    "print('Task 27:')\n",
    "df = pd.DataFrame(np.random.rand(10, 5))\n",
    "df.iloc[0:3, 0:4] = np.nan # throw in some na values\n",
    "print(df)\n",
    "df.loc[:, 'test'] = df.iloc[:, 2:].sum(axis=1)\n",
    "print(df)"
   ]
  },
  {
   "cell_type": "markdown",
   "metadata": {},
   "source": [
    "<div style=\"\">\n",
    "    <div style=\"float: left; width: 80%;\">\n",
    "        <a id=\"28\"></a>\n",
    "        <font><b>Task 28:</b></font>\n",
    "        <br><br>\n",
    "        Unicode issue and fix\n",
    "    </div>\n",
    "    <div style=\"float: right;\">\n",
    "        <a href=\"#top\" class=\"btn btn-primary btn-sm\" role=\"button\" aria-pressed=\"true\" style=\"color:white\" data-toggle=\"popover\" title=\"go to Top\">Go to Top</a>\n",
    "    </div>\n",
    "    <br style=\"clear: left;\" />\n",
    "</div> "
   ]
  },
  {
   "cell_type": "code",
   "execution_count": null,
   "metadata": {},
   "outputs": [],
   "source": [
    "print('Task 28:') \n",
    "df = pandas.read_csv('/kaggle/input/datasets-for-pandas/score.csv', sep=',', encoding = \"ISO-8859-1\")\n",
    "print(df.shape) "
   ]
  },
  {
   "cell_type": "markdown",
   "metadata": {},
   "source": [
    "<div style=\"\">\n",
    "    <div style=\"float: left; width: 80%;\">\n",
    "        <a id=\"29\"></a>\n",
    "        <font><b>Task 29:</b></font>\n",
    "        <br><br>\n",
    "        Fill with average\n",
    "    </div>\n",
    "    <div style=\"float: right;\">\n",
    "        <a href=\"#top\" class=\"btn btn-primary btn-sm\" role=\"button\" aria-pressed=\"true\" style=\"color:white\" data-toggle=\"popover\" title=\"go to Top\">Go to Top</a>\n",
    "    </div>\n",
    "    <br style=\"clear: left;\" />\n",
    "</div> "
   ]
  },
  {
   "cell_type": "code",
   "execution_count": null,
   "metadata": {},
   "outputs": [],
   "source": [
    "print('Task 29:') \n",
    "df = pd.DataFrame(np.random.rand(3,4), columns=list(\"ABCD\"))\n",
    "print(df.shape)   \n",
    "print(df)\n",
    "df.fillna(df.mean(), inplace=True)\n",
    "\n",
    "print(df)"
   ]
  },
  {
   "cell_type": "markdown",
   "metadata": {},
   "source": [
    "<div style=\"\">\n",
    "    <div style=\"float: left; width: 80%;\">\n",
    "        <a id=\"30\"></a>\n",
    "        <font><b>Task 30:</b></font>\n",
    "        <br><br>\n",
    "        Last 4 rows\n",
    "    </div>\n",
    "    <div style=\"float: right;\">\n",
    "        <a href=\"#top\" class=\"btn btn-primary btn-sm\" role=\"button\" aria-pressed=\"true\" style=\"color:white\" data-toggle=\"popover\" title=\"go to Top\">Go to Top</a>\n",
    "    </div>\n",
    "    <br style=\"clear: left;\" />\n",
    "</div>"
   ]
  },
  {
   "cell_type": "code",
   "execution_count": null,
   "metadata": {},
   "outputs": [],
   "source": [
    "print('Task 30:')  \n",
    "df = pandas.read_csv('/kaggle/input/datasets-for-pandas/data1.csv', sep=';') \n",
    "print(df[-4:])"
   ]
  },
  {
   "cell_type": "markdown",
   "metadata": {},
   "source": [
    "<div style=\"\">\n",
    "    <div style=\"float: left; width: 80%;\">\n",
    "        <a id=\"31\"></a>\n",
    "        <font><b>Task 31:</b></font>\n",
    "        <br><br>\n",
    "        Expanding Apply\n",
    "    </div>\n",
    "    <div style=\"float: right;\">\n",
    "        <a href=\"#top\" class=\"btn btn-primary btn-sm\" role=\"button\" aria-pressed=\"true\" style=\"color:white\" data-toggle=\"popover\" title=\"go to Top\">Go to Top</a>\n",
    "    </div>\n",
    "    <br style=\"clear: left;\" />\n",
    "</div> "
   ]
  },
  {
   "cell_type": "code",
   "execution_count": null,
   "metadata": {},
   "outputs": [],
   "source": [
    "print('Task 31:')\n",
    "series1 = pd.Series([i / 100.0 for i in range(1,6)])\n",
    "print(series1)\n",
    "def CumRet(x,y):\n",
    "    return x * (1 + y)\n",
    "def Red(x):\n",
    "    return functools.reduce(CumRet,x,1.0)\n",
    "s2 = series1.expanding().apply(Red)\n",
    "# s2 = series1.expanding().apply(Red, raw=True) # is not working\n",
    "print(s2)"
   ]
  },
  {
   "cell_type": "markdown",
   "metadata": {},
   "source": [
    "<div style=\"\">\n",
    "    <div style=\"float: left; width: 80%;\">\n",
    "        <a id=\"32\"></a>\n",
    "        <font><b>Task 32:</b></font>\n",
    "        <br><br>\n",
    "        Get 3 and 4th row\n",
    "    </div>\n",
    "    <div style=\"float: right;\">\n",
    "        <a href=\"#top\" class=\"btn btn-primary btn-sm\" role=\"button\" aria-pressed=\"true\" style=\"color:white\" data-toggle=\"popover\" title=\"go to Top\">Go to Top</a>\n",
    "    </div>\n",
    "    <br style=\"clear: left;\" />\n",
    "</div> "
   ]
  },
  {
   "cell_type": "code",
   "execution_count": null,
   "metadata": {},
   "outputs": [],
   "source": [
    "print('Task 32:')  \n",
    "df = pandas.read_csv('/kaggle/input/datasets-for-pandas/data1.csv', sep=';') \n",
    "print(df[2:4])"
   ]
  },
  {
   "cell_type": "markdown",
   "metadata": {},
   "source": [
    "<div style=\"\">\n",
    "    <div style=\"float: left; width: 80%;\">\n",
    "        <a id=\"33\"></a>\n",
    "        <font><b>Task 33:</b></font>\n",
    "        <br><br>\n",
    "        Last 4th to 1st\n",
    "    </div>\n",
    "    <div style=\"float: right;\">\n",
    "        <a href=\"#top\" class=\"btn btn-primary btn-sm\" role=\"button\" aria-pressed=\"true\" style=\"color:white\" data-toggle=\"popover\" title=\"go to Top\">Go to Top</a>\n",
    "    </div>\n",
    "    <br style=\"clear: left;\" />\n",
    "</div> "
   ]
  },
  {
   "cell_type": "code",
   "execution_count": null,
   "metadata": {},
   "outputs": [],
   "source": [
    "print('Task 33:')  \n",
    "df = pandas.read_csv('/kaggle/input/datasets-for-pandas/data1.csv', sep=';') \n",
    "print(df[-4:-1])"
   ]
  },
  {
   "cell_type": "markdown",
   "metadata": {},
   "source": [
    "<div style=\"\">\n",
    "    <div style=\"float: left; width: 80%;\">\n",
    "        <a id=\"34\"></a>\n",
    "        <font><b>Task 34:</b></font>\n",
    "        <br><br>\n",
    "        iloc position slice\n",
    "    </div>\n",
    "    <div style=\"float: right;\">\n",
    "        <a href=\"#top\" class=\"btn btn-primary btn-sm\" role=\"button\" aria-pressed=\"true\" style=\"color:white\" data-toggle=\"popover\" title=\"go to Top\">Go to Top</a>\n",
    "    </div>\n",
    "    <br style=\"clear: left;\" />\n",
    "</div> "
   ]
  },
  {
   "cell_type": "code",
   "execution_count": null,
   "metadata": {},
   "outputs": [],
   "source": [
    "print('Task 34:')  \n",
    "df = pandas.read_csv('/kaggle/input/datasets-for-pandas/data1.csv', sep=';') \n",
    "print(df.iloc[1:9])"
   ]
  },
  {
   "cell_type": "markdown",
   "metadata": {},
   "source": [
    "<div style=\"\">\n",
    "    <div style=\"float: left; width: 80%;\">\n",
    "        <a id=\"35\"></a>\n",
    "        <font><b>Task 35:</b></font>\n",
    "        <br><br>\n",
    "        Loc - iloc - ix - at - iat\n",
    "    </div>\n",
    "    <div style=\"float: right;\">\n",
    "        <a href=\"#top\" class=\"btn btn-primary btn-sm\" role=\"button\" aria-pressed=\"true\" style=\"color:white\" data-toggle=\"popover\" title=\"go to Top\">Go to Top</a>\n",
    "    </div>\n",
    "    <br style=\"clear: left;\" />\n",
    "</div>"
   ]
  },
  {
   "cell_type": "code",
   "execution_count": null,
   "metadata": {},
   "outputs": [],
   "source": [
    "print('Task 35:')  \n",
    "df = pandas.read_csv('/kaggle/input/datasets-for-pandas/data1.csv', sep=';')"
   ]
  },
  {
   "cell_type": "markdown",
   "metadata": {},
   "source": [
    "<div style=\"\">\n",
    "    <div style=\"float: left; width: 80%;\">\n",
    "        <a id=\"36\"></a>\n",
    "        <font><b>Task 36:</b></font>\n",
    "        <br><br>\n",
    "        Random data\n",
    "    </div>\n",
    "    <div style=\"float: right;\">\n",
    "        <a href=\"#top\" class=\"btn btn-primary btn-sm\" role=\"button\" aria-pressed=\"true\" style=\"color:white\" data-toggle=\"popover\" title=\"go to Top\">Go to Top</a>\n",
    "    </div>\n",
    "    <br style=\"clear: left;\" />\n",
    "</div> "
   ]
  },
  {
   "cell_type": "code",
   "execution_count": null,
   "metadata": {},
   "outputs": [],
   "source": [
    "print('Task 36:')  \n",
    "def xrange(x):\n",
    "    return iter(range(x))\n",
    "\n",
    "rnd_1  =  [ rn.randrange ( 1 , 20 )  for  x  in  xrange ( 1000 )] \n",
    "rnd_2  =  [ rn.randrange ( 1 , 20 )  for  x  in  xrange ( 1000 )] \n",
    "rnd_3  =  [ rn.randrange ( 1 , 20 )  for  x in  xrange ( 1000 )] \n",
    "date  =  pd . date_range ( '2012-4-10' ,  '2015-1-4' )\n",
    "print(len(date))\n",
    "data  =  pd . DataFrame ({ 'date' : date ,  'rnd_1' :  rnd_1 ,  'rnd_2' :  rnd_2 ,  'rnd_3' :  rnd_3 })\n",
    "\n",
    "data.head()"
   ]
  },
  {
   "cell_type": "markdown",
   "metadata": {},
   "source": [
    "<div style=\"\">\n",
    "    <div style=\"float: left; width: 80%;\">\n",
    "        <a id=\"37\"></a>\n",
    "        <font><b>Task 37:</b></font>\n",
    "        <br><br>\n",
    "        Filter with the value comparison\n",
    "    </div>\n",
    "    <div style=\"float: right;\">\n",
    "        <a href=\"#top\" class=\"btn btn-primary btn-sm\" role=\"button\" aria-pressed=\"true\" style=\"color:white\" data-toggle=\"popover\" title=\"go to Top\">Go to Top</a>\n",
    "    </div>\n",
    "    <br style=\"clear: left;\" />\n",
    "</div> "
   ]
  },
  {
   "cell_type": "code",
   "execution_count": null,
   "metadata": {},
   "outputs": [],
   "source": [
    "print('Task 37:')\n",
    "below_20 = data[data['rnd_1'] < 20]    \n",
    "print(below_20)"
   ]
  },
  {
   "cell_type": "markdown",
   "metadata": {},
   "source": [
    "<div style=\"\">\n",
    "    <div style=\"float: left; width: 80%;\">\n",
    "        <a id=\"38\"></a>\n",
    "        <font><b>Task 38:</b></font>\n",
    "        <br><br>\n",
    "        Filter between 5 and 10 on col 1\n",
    "    </div>\n",
    "    <div style=\"float: right;\">\n",
    "        <a href=\"#top\" class=\"btn btn-primary btn-sm\" role=\"button\" aria-pressed=\"true\" style=\"color:white\" data-toggle=\"popover\" title=\"go to Top\">Go to Top</a>\n",
    "    </div>\n",
    "    <br style=\"clear: left;\" />\n",
    "</div> "
   ]
  },
  {
   "cell_type": "code",
   "execution_count": null,
   "metadata": {},
   "outputs": [],
   "source": [
    "print('Task 38:') \n",
    "def xrange(x):\n",
    "    return iter(range(x))\n",
    "rnd_1  =  [ rn.randrange ( 1 , 20 )  for  x  in  xrange ( 1000 )] \n",
    "rnd_2  =  [ rn.randrange ( 1 , 20 )  for  x  in  xrange ( 1000 )] \n",
    "rnd_3  =  [ rn.randrange ( 1 , 20 )  for  x in  xrange ( 1000 )] \n",
    "date  =  pd . date_range ( '2012-4-10' ,  '2015-1-4' )\n",
    "print(len(date))\n",
    "data  =  pd . DataFrame ({ 'date' : date ,  'rnd_1' :  rnd_1 ,  'rnd_2' :  rnd_2 ,  'rnd_3' :  rnd_3 })\n",
    "below_20 = data[data['rnd_1'] < 20]\n",
    "ten_to_20 = data[(data['rnd_1'] >= 5) & (data['rnd_1'] < 10)]\n",
    "#print(ten_to_20)"
   ]
  },
  {
   "cell_type": "markdown",
   "metadata": {},
   "source": [
    "<div style=\"\">\n",
    "    <div style=\"float: left; width: 80%;\">\n",
    "        <a id=\"39\"></a>\n",
    "        <font><b>Task 39:</b></font>\n",
    "        <br><br>\n",
    "        Filter between 15 to 20\n",
    "    </div>\n",
    "    <div style=\"float: right;\">\n",
    "        <a href=\"#top\" class=\"btn btn-primary btn-sm\" role=\"button\" aria-pressed=\"true\" style=\"color:white\" data-toggle=\"popover\" title=\"go to Top\">Go to Top</a>\n",
    "    </div>\n",
    "    <br style=\"clear: left;\" />\n",
    "</div> "
   ]
  },
  {
   "cell_type": "code",
   "execution_count": null,
   "metadata": {},
   "outputs": [],
   "source": [
    "print('Task 39:')      \n",
    "date  =  pd . date_range ( '2018-08-01' ,  '2018-08-15' )\n",
    "date_count = len(date)\n",
    "\n",
    "def fill_rand(start, end, count):\n",
    "    return [rn.randrange(1, 20 ) for x in xrange( count )]\n",
    "\n",
    "rnd_1 = fill_rand(1, 20, date_count) \n",
    "rnd_2 = fill_rand(1, 20, date_count) \n",
    "rnd_3 = fill_rand(1, 20, date_count)\n",
    "#print(len(date))\n",
    "data  =  pd . DataFrame ({ 'date' : date ,  'rnd_1' :  rnd_1 ,  'rnd_2' :  rnd_2 ,  'rnd_3' :  rnd_3 })\n",
    "#print(len(date))\n",
    "ten_to_20 = data[(data['rnd_1'] >= 15) & (data['rnd_1'] < 20)]\n",
    "print(ten_to_20)"
   ]
  },
  {
   "cell_type": "markdown",
   "metadata": {},
   "source": [
    "<div style=\"\">\n",
    "    <div style=\"float: left; width: 80%;\">\n",
    "        <a id=\"40\"></a>\n",
    "        <font><b>Task 40:</b></font>\n",
    "        <br><br>\n",
    "        15 to 33\n",
    "    </div>\n",
    "    <div style=\"float: right;\">\n",
    "        <a href=\"#top\" class=\"btn btn-primary btn-sm\" role=\"button\" aria-pressed=\"true\" style=\"color:white\" data-toggle=\"popover\" title=\"go to Top\">Go to Top</a>\n",
    "    </div>\n",
    "    <br style=\"clear: left;\" />\n",
    "</div>"
   ]
  },
  {
   "cell_type": "code",
   "execution_count": null,
   "metadata": {},
   "outputs": [],
   "source": [
    "print('Task 40:')      \n",
    "date  =  pd . date_range ( '2018-08-01' ,  '2018-08-15' )\n",
    "date_count = len(date)\n",
    "\n",
    "def fill_rand(start, end, count):\n",
    "    return [rn.randrange(1, 20 ) for x in xrange( count )]\n",
    "\n",
    "rnd_1 = fill_rand(1, 20, date_count) \n",
    "rnd_2 = fill_rand(1, 20, date_count) \n",
    "rnd_3 = fill_rand(1, 20, date_count)\n",
    "\n",
    "data  =  pd . DataFrame ({ 'date' : date ,  'rnd_1' :  rnd_1 ,  'rnd_2' :  rnd_2 ,  'rnd_3' :  rnd_3 })\n",
    "\n",
    "ten_to_20 = data[(data['rnd_1'] >= 15) & (data['rnd_1'] < 33)]\n",
    "print(ten_to_20)"
   ]
  },
  {
   "cell_type": "markdown",
   "metadata": {},
   "source": [
    "<div style=\"\">\n",
    "    <div style=\"float: left; width: 80%;\">\n",
    "        <a id=\"41\"></a>\n",
    "        <font><b>Task 41:</b></font>\n",
    "        <br><br>\n",
    "        Custom method and xrnage on dataframe\n",
    "    </div>\n",
    "    <div style=\"float: right;\">\n",
    "        <a href=\"#top\" class=\"btn btn-primary btn-sm\" role=\"button\" aria-pressed=\"true\" style=\"color:white\" data-toggle=\"popover\" title=\"go to Top\">Go to Top</a>\n",
    "    </div>\n",
    "    <br style=\"clear: left;\" />\n",
    "</div> "
   ]
  },
  {
   "cell_type": "code",
   "execution_count": null,
   "metadata": {},
   "outputs": [],
   "source": [
    "print('Task 41:')  \n",
    "date  =  pd . date_range ( '2018-08-01' ,  '2018-08-15' )\n",
    "date_count = len(date)\n",
    "\n",
    "def xrange(x):\n",
    "    return iter(range(x))\n",
    "\n",
    "def fill_rand(start, end, count):\n",
    "    return [rn.randrange(1, 20 ) for x in xrange( count )]\n",
    "\n",
    "rnd_1 = fill_rand(1, 20, date_count) \n",
    "rnd_2 = fill_rand(1, 20, date_count) \n",
    "rnd_3 = fill_rand(1, 20, date_count)\n",
    "\n",
    "data  =  pd . DataFrame ({ 'date' : date ,  'rnd_1' :  rnd_1 ,  'rnd_2' :  rnd_2 ,  'rnd_3' :  rnd_3 })\n",
    "filter_loc = data.loc[ 2 : 4 ,  [ 'rnd_2' ,  'date' ]]\n",
    "print(filter_loc)"
   ]
  },
  {
   "cell_type": "markdown",
   "metadata": {},
   "source": [
    "<div style=\"\">\n",
    "    <div style=\"float: left; width: 80%;\">\n",
    "        <a id=\"42\"></a>\n",
    "        <font><b>Task 42:</b></font>\n",
    "        <br><br>\n",
    "        Set index with date column\n",
    "    </div>\n",
    "    <div style=\"float: right;\">\n",
    "        <a href=\"#top\" class=\"btn btn-primary btn-sm\" role=\"button\" aria-pressed=\"true\" style=\"color:white\" data-toggle=\"popover\" title=\"go to Top\">Go to Top</a>\n",
    "    </div>\n",
    "    <br style=\"clear: left;\" />\n",
    "</div> "
   ]
  },
  {
   "cell_type": "code",
   "execution_count": null,
   "metadata": {},
   "outputs": [],
   "source": [
    "print('Task 42:')\n",
    "date_date = data.set_index( 'date' ) \n",
    "print(date_date.head())"
   ]
  },
  {
   "cell_type": "markdown",
   "metadata": {},
   "source": [
    "<div style=\"\">\n",
    "    <div style=\"float: left; width: 80%;\">\n",
    "        <a id=\"43\"></a>\n",
    "        <font><b>Task 43:</b></font>\n",
    "        <br><br>\n",
    "        Change columns based on other columns\n",
    "    </div>\n",
    "    <div style=\"float: right;\">\n",
    "        <a href=\"#top\" class=\"btn btn-primary btn-sm\" role=\"button\" aria-pressed=\"true\" style=\"color:white\" data-toggle=\"popover\" title=\"go to Top\">Go to Top</a>\n",
    "    </div>\n",
    "    <br style=\"clear: left;\" />\n",
    "</div> "
   ]
  },
  {
   "cell_type": "code",
   "execution_count": null,
   "metadata": {},
   "outputs": [],
   "source": [
    "print('Task 43:') \n",
    "df = pd.DataFrame({\n",
    "    'a' : [1,2,3,4], \n",
    "    'b' : [9,8,7,6],\n",
    "    'c' : [11,12,13,14]\n",
    "})\n",
    "print(df) \n",
    "\n",
    "print('changing on one column')\n",
    "# Change columns\n",
    "df.loc[df.a >= 2,'b'] = 9\n",
    "print(df)"
   ]
  },
  {
   "cell_type": "markdown",
   "metadata": {},
   "source": [
    "<div style=\"\">\n",
    "    <div style=\"float: left; width: 80%;\">\n",
    "        <a id=\"44\"></a>\n",
    "        <font><b>Task 44:</b></font>\n",
    "        <br><br>\n",
    "        Change multiple columns based on one column values\n",
    "    </div>\n",
    "    <div style=\"float: right;\">\n",
    "        <a href=\"#top\" class=\"btn btn-primary btn-sm\" role=\"button\" aria-pressed=\"true\" style=\"color:white\" data-toggle=\"popover\" title=\"go to Top\">Go to Top</a>\n",
    "    </div>\n",
    "    <br style=\"clear: left;\" />\n",
    "</div> "
   ]
  },
  {
   "cell_type": "code",
   "execution_count": null,
   "metadata": {},
   "outputs": [],
   "source": [
    "print('Task 44:')  \n",
    "print('changing on multipe columns')\n",
    "df.loc[df.a > 2,['b', 'c']] = 45\n",
    "print(df)"
   ]
  },
  {
   "cell_type": "markdown",
   "metadata": {},
   "source": [
    "<div style=\"\">\n",
    "    <div style=\"float: left; width: 80%;\">\n",
    "        <a id=\"45\"></a>\n",
    "        <font><b>Task 45:</b></font>\n",
    "        <br><br>\n",
    "        Pandas Mask\n",
    "    </div>\n",
    "    <div style=\"float: right;\">\n",
    "        <a href=\"#top\" class=\"btn btn-primary btn-sm\" role=\"button\" aria-pressed=\"true\" style=\"color:white\" data-toggle=\"popover\" title=\"go to Top\">Go to Top</a>\n",
    "    </div>\n",
    "    <br style=\"clear: left;\" />\n",
    "</div>"
   ]
  },
  {
   "cell_type": "code",
   "execution_count": null,
   "metadata": {},
   "outputs": [],
   "source": [
    "print('Task 45:')  \n",
    "print(df)\n",
    "df_mask = pd.DataFrame({\n",
    "    'a' : [True] * 4, \n",
    "    'b' : [False] * 4,\n",
    "    'c' : [True, False] * 2\n",
    "})\n",
    "print(df.where(df_mask,-1000))"
   ]
  },
  {
   "cell_type": "markdown",
   "metadata": {},
   "source": [
    "<div style=\"\">\n",
    "    <div style=\"float: left; width: 80%;\">\n",
    "        <a id=\"46\"></a>\n",
    "        <font><b>Task 46:</b></font>\n",
    "        <br><br>\n",
    "        Check high or low comparing the column against 5\n",
    "    </div>\n",
    "    <div style=\"float: right;\">\n",
    "        <a href=\"#top\" class=\"btn btn-primary btn-sm\" role=\"button\" aria-pressed=\"true\" style=\"color:white\" data-toggle=\"popover\" title=\"go to Top\">Go to Top</a>\n",
    "    </div>\n",
    "    <br style=\"clear: left;\" />\n",
    "</div>"
   ]
  },
  {
   "cell_type": "code",
   "execution_count": null,
   "metadata": {},
   "outputs": [],
   "source": [
    "print('Task 46:')\n",
    "print(df)  \n",
    "df['logic'] = np.where(df['a'] > 5, 'high', 'low')\n",
    "print(df)"
   ]
  },
  {
   "cell_type": "markdown",
   "metadata": {},
   "source": [
    "<div style=\"\">\n",
    "    <div style=\"float: left; width: 80%;\">\n",
    "        <a id=\"47\"></a>\n",
    "        <font><b>Task 47:</b></font>\n",
    "        <br><br>\n",
    "        Student Marks (Pass or Fail)\n",
    "    </div>\n",
    "    <div style=\"float: right;\">\n",
    "        <a href=\"#top\" class=\"btn btn-primary btn-sm\" role=\"button\" aria-pressed=\"true\" style=\"color:white\" data-toggle=\"popover\" title=\"go to Top\">Go to Top</a>\n",
    "    </div>\n",
    "    <br style=\"clear: left;\" />\n",
    "</div>"
   ]
  },
  {
   "cell_type": "code",
   "execution_count": null,
   "metadata": {},
   "outputs": [],
   "source": [
    "print('Task 47:')\n",
    "marks_df = pd.DataFrame({\n",
    "    'Language' : [60, 45, 78, 4], \n",
    "    'Math' : [90, 80, 23, 60],\n",
    "    'Science' : [45, 90, 95, 20]\n",
    "});\n",
    "print(marks_df)\n",
    "marks_df['language_grade'] = np.where(marks_df['Language'] >= 50, 'Pass', 'Fail')\n",
    "marks_df['math_grade'] = np.where(marks_df['Math'] >= 50, 'Pass', 'Fail')\n",
    "marks_df['science_grade'] = np.where(marks_df['Science'] >= 50, 'Pass', 'Fail')\n",
    "print(marks_df)"
   ]
  },
  {
   "cell_type": "markdown",
   "metadata": {},
   "source": [
    "<div style=\"\">\n",
    "    <div style=\"float: left; width: 80%;\">\n",
    "        <a id=\"48\"></a>\n",
    "        <font><b>Task 48:</b></font>\n",
    "        <br><br>\n",
    "        Get passed grades\n",
    "    </div>\n",
    "    <div style=\"float: right;\">\n",
    "        <a href=\"#top\" class=\"btn btn-primary btn-sm\" role=\"button\" aria-pressed=\"true\" style=\"color:white\" data-toggle=\"popover\" title=\"go to Top\">Go to Top</a>\n",
    "    </div>\n",
    "    <br style=\"clear: left;\" />\n",
    "</div>"
   ]
  },
  {
   "cell_type": "code",
   "execution_count": null,
   "metadata": {},
   "outputs": [],
   "source": [
    "print('Task 48:')  \n",
    "marks_df = pd.DataFrame({\n",
    "    'Language' : [60, 45, 78, 4], \n",
    "    'Math' : [90, 80, 23, 60],\n",
    "    'Science' : [45, 90, 95, 20]\n",
    "});\n",
    "print(marks_df)\n",
    "marks_df_passed_in_language = marks_df[marks_df.Language >=50 ]\n",
    "print(marks_df_passed_in_language)"
   ]
  },
  {
   "cell_type": "markdown",
   "metadata": {},
   "source": [
    "<div style=\"\">\n",
    "    <div style=\"float: left; width: 80%;\">\n",
    "        <a id=\"49\"></a>\n",
    "        <font><b>Task 49:</b></font>\n",
    "        <br><br>\n",
    "        Students passed in Language and Math\n",
    "    </div>\n",
    "    <div style=\"float: right;\">\n",
    "        <a href=\"#top\" class=\"btn btn-primary btn-sm\" role=\"button\" aria-pressed=\"true\" style=\"color:white\" data-toggle=\"popover\" title=\"go to Top\">Go to Top</a>\n",
    "    </div>\n",
    "    <br style=\"clear: left;\" />\n",
    "</div> "
   ]
  },
  {
   "cell_type": "code",
   "execution_count": null,
   "metadata": {},
   "outputs": [],
   "source": [
    "print('Task 49:')  \n",
    "marks_df_passed_in_lang_math = marks_df[(marks_df.Language >=50) & (marks_df.Math >= 50)]\n",
    "print(marks_df_passed_in_lang_math)"
   ]
  },
  {
   "cell_type": "markdown",
   "metadata": {},
   "source": [
    "<div style=\"\">\n",
    "    <div style=\"float: left; width: 80%;\">\n",
    "        <a id=\"50\"></a>\n",
    "        <font><b>Task 50:</b></font>\n",
    "        <br><br>\n",
    "        Students passed in Language and Science\n",
    "    </div>\n",
    "    <div style=\"float: right;\">\n",
    "        <a href=\"#top\" class=\"btn btn-primary btn-sm\" role=\"button\" aria-pressed=\"true\" style=\"color:white\" data-toggle=\"popover\" title=\"go to Top\">Go to Top</a>\n",
    "    </div>\n",
    "    <br style=\"clear: left;\" />\n",
    "</div>"
   ]
  },
  {
   "cell_type": "code",
   "execution_count": null,
   "metadata": {},
   "outputs": [],
   "source": [
    "print('Task 50:')  \n",
    "marks_df_passed_in_lang_and_sc = marks_df.loc[(marks_df.Language >=50) & (marks_df.Science >= 50)]\n",
    "print(marks_df_passed_in_lang_and_sc)"
   ]
  },
  {
   "cell_type": "markdown",
   "metadata": {},
   "source": [
    "<div style=\"\">\n",
    "    <div style=\"float: left; width: 80%;\">\n",
    "        <a id=\"51\"></a>\n",
    "        <font><b>Task 51:</b></font>\n",
    "        <br><br>\n",
    "        Loc with Label oriented slicing\n",
    "<br>possible error:\n",
    "<br>pandas.errors.UnsortedIndexError\n",
    "    </div>\n",
    "    <div style=\"float: right;\">\n",
    "        <a href=\"#top\" class=\"btn btn-primary btn-sm\" role=\"button\" aria-pressed=\"true\" style=\"color:white\" data-toggle=\"popover\" title=\"go to Top\">Go to Top</a>\n",
    "    </div>\n",
    "    <br style=\"clear: left;\" />\n",
    "</div> "
   ]
  },
  {
   "cell_type": "code",
   "execution_count": null,
   "metadata": {},
   "outputs": [],
   "source": [
    "print('Task 51:')\n",
    "stars = {\n",
    "    'age' : [31, 23, 65, 50],\n",
    "    'movies' : [51, 23, 87, 200],\n",
    "    'awards' : [42, 12, 4, 78]\n",
    "    }\n",
    "star_names = ['dhanush', 'simbu', 'kamal', 'vikram']\n",
    "stars_df = pd.DataFrame(data=stars, index=[star_names])\n",
    "print(stars_df)"
   ]
  },
  {
   "cell_type": "markdown",
   "metadata": {},
   "source": [
    "<div style=\"\">\n",
    "    <div style=\"float: left; width: 80%;\">\n",
    "        <a id=\"52\"></a>\n",
    "        <font><b>Task 52:</b></font>\n",
    "        <br><br>\n",
    "        iloc with positional slicing\n",
    "    </div>\n",
    "    <div style=\"float: right;\">\n",
    "        <a href=\"#top\" class=\"btn btn-primary btn-sm\" role=\"button\" aria-pressed=\"true\" style=\"color:white\" data-toggle=\"popover\" title=\"go to Top\">Go to Top</a>\n",
    "    </div>\n",
    "    <br style=\"clear: left;\" />\n",
    "</div> "
   ]
  },
  {
   "cell_type": "code",
   "execution_count": null,
   "metadata": {},
   "outputs": [],
   "source": [
    "print('Task 52:')  \n",
    "print(stars_df.iloc[1:3])"
   ]
  },
  {
   "cell_type": "markdown",
   "metadata": {},
   "source": [
    "<div style=\"\">\n",
    "    <div style=\"float: left; width: 80%;\">\n",
    "        <a id=\"53\"></a>\n",
    "        <font><b>Task 53:</b></font>\n",
    "        <br><br>\n",
    "        Label between numbers\n",
    "    </div>\n",
    "    <div style=\"float: right;\">\n",
    "        <a href=\"#top\" class=\"btn btn-primary btn-sm\" role=\"button\" aria-pressed=\"true\" style=\"color:white\" data-toggle=\"popover\" title=\"go to Top\">Go to Top</a>\n",
    "    </div>\n",
    "    <br style=\"clear: left;\" />\n",
    "</div>"
   ]
  },
  {
   "cell_type": "code",
   "execution_count": null,
   "metadata": {},
   "outputs": [],
   "source": [
    "print('Task 53:')  \n",
    "numbers = pd.DataFrame({\n",
    "        'one' : [10, 50, 80, 40],\n",
    "        'two' : [2, 6, 56, 45]\n",
    "    },\n",
    "    index = [12, 14, 16, 18])\n",
    "print(numbers)\n",
    "\n",
    "print('label between 12 and 16')\n",
    "print(numbers.loc[12:16])\n",
    "\n",
    "print('index between 1 and 3')\n",
    "print(numbers.iloc[1:3])"
   ]
  },
  {
   "cell_type": "markdown",
   "metadata": {},
   "source": [
    "<div style=\"\">\n",
    "    <div style=\"float: left; width: 80%;\">\n",
    "        <a id=\"54\"></a>\n",
    "        <font><b>Task 54:</b></font>\n",
    "        <br><br>\n",
    "        Stars with names\n",
    "    </div>\n",
    "    <div style=\"float: right;\">\n",
    "        <a href=\"#top\" class=\"btn btn-primary btn-sm\" role=\"button\" aria-pressed=\"true\" style=\"color:white\" data-toggle=\"popover\" title=\"go to Top\">Go to Top</a>\n",
    "    </div>\n",
    "    <br style=\"clear: left;\" />\n",
    "</div> "
   ]
  },
  {
   "cell_type": "code",
   "execution_count": null,
   "metadata": {},
   "outputs": [],
   "source": [
    "print('Task 54:') \n",
    "stars = {\n",
    "    'age' : [31, 23, 65, 50],\n",
    "    'movies' : [51, 23, 87, 200],\n",
    "    'awards' : [42, 12, 4, 78]\n",
    "    }\n",
    "star_names = ['dhanush', 'simbu', 'kamal', 'vikram']\n",
    "stars_df = pd.DataFrame(data=stars, index=[star_names])\n",
    "numbers = pd.DataFrame({\n",
    "        'one' : [10, 50, 80, 40],\n",
    "        'two' : [2, 6, 56, 45]\n",
    "    },\n",
    "    index = [12, 14, 16, 18])\n",
    "print(numbers)"
   ]
  },
  {
   "cell_type": "markdown",
   "metadata": {},
   "source": [
    "<div style=\"\">\n",
    "    <div style=\"float: left; width: 80%;\">\n",
    "        <a id=\"55\"></a>\n",
    "        <font><b>Task 55:</b></font>\n",
    "        <br><br>\n",
    "        Row label selection\n",
    "        <br>Age is above 25 and movies above 25\n",
    "    </div>\n",
    "    <div style=\"float: right;\">\n",
    "        <a href=\"#top\" class=\"btn btn-primary btn-sm\" role=\"button\" aria-pressed=\"true\" style=\"color:white\" data-toggle=\"popover\" title=\"go to Top\">Go to Top</a>\n",
    "    </div>\n",
    "    <br style=\"clear: left;\" />\n",
    "</div>"
   ]
  },
  {
   "cell_type": "code",
   "execution_count": null,
   "metadata": {},
   "outputs": [],
   "source": [
    "print('Task 55:')\n",
    "\n",
    "age_movies_25 = stars_df[(stars_df.movies > 25 ) & (stars_df.age > 25)]  \n",
    "print(age_movies_25)"
   ]
  },
  {
   "cell_type": "markdown",
   "metadata": {},
   "source": [
    "<div style=\"\">\n",
    "    <div style=\"float: left; width: 80%;\">\n",
    "        <a id=\"56\"></a>\n",
    "        <font><b>Task 56:</b></font>\n",
    "        <br><br>\n",
    "        Stars in in certain ages\n",
    "    </div>\n",
    "    <div style=\"float: right;\">\n",
    "        <a href=\"#top\" class=\"btn btn-primary btn-sm\" role=\"button\" aria-pressed=\"true\" style=\"color:white\" data-toggle=\"popover\" title=\"go to Top\">Go to Top</a>\n",
    "    </div>\n",
    "    <br style=\"clear: left;\" />\n",
    "</div> "
   ]
  },
  {
   "cell_type": "code",
   "execution_count": null,
   "metadata": {},
   "outputs": [],
   "source": [
    "print('Task 56:')  \n",
    "custom_stars = stars_df[stars_df.age.isin([31, 65])]\n",
    "print(custom_stars)"
   ]
  },
  {
   "cell_type": "markdown",
   "metadata": {},
   "source": [
    "<div style=\"\">\n",
    "    <div style=\"float: left; width: 80%;\">\n",
    "        <a id=\"57\"></a>\n",
    "        <font><b>Task 57:</b></font>\n",
    "        <br><br>\n",
    "        inverse opeartor\n",
    "         <br>!( above one.45 and below two.50 )\n",
    "    </div>\n",
    "    <div style=\"float: right;\">\n",
    "        <a href=\"#top\" class=\"btn btn-primary btn-sm\" role=\"button\" aria-pressed=\"true\" style=\"color:white\" data-toggle=\"popover\" title=\"go to Top\">Go to Top</a>\n",
    "    </div>\n",
    "    <br style=\"clear: left;\" />\n",
    "</div> "
   ]
  },
  {
   "cell_type": "code",
   "execution_count": null,
   "metadata": {},
   "outputs": [],
   "source": [
    "print('Task 57:')  \n",
    "print(numbers)\n",
    "print(numbers[~( (numbers.one > 45) & (numbers.two < 50) )])"
   ]
  },
  {
   "cell_type": "markdown",
   "metadata": {},
   "source": [
    "<div style=\"\">\n",
    "    <div style=\"float: left; width: 80%;\">\n",
    "        <a id=\"58\"></a>\n",
    "        <font><b>Task 58:</b></font>\n",
    "        <br><br>\n",
    "        Apply custom function\n",
    "    </div>\n",
    "    <div style=\"float: right;\">\n",
    "        <a href=\"#top\" class=\"btn btn-primary btn-sm\" role=\"button\" aria-pressed=\"true\" style=\"color:white\" data-toggle=\"popover\" title=\"go to Top\">Go to Top</a>\n",
    "    </div>\n",
    "    <br style=\"clear: left;\" />\n",
    "</div> "
   ]
  },
  {
   "cell_type": "code",
   "execution_count": null,
   "metadata": {},
   "outputs": [],
   "source": [
    "print('Task 58:')\n",
    "def GrowUp(x):\n",
    "    avg_weight =  sum(x[x['size'] == 'series1'].weight * 1.5)\n",
    "    avg_weight += sum(x[x['size'] == 'M'].weight * 1.25)\n",
    "    avg_weight += sum(x[x['size'] == 'L'].weight)\n",
    "    avg_weight /= len(x)\n",
    "    return pd.Series(['L',avg_weight,True], index=['size', 'weight', 'adult'])\n",
    "\n",
    "animals_df = pd.DataFrame({'animal': 'cat dog cat fish dog cat cat'.split(),\n",
    "                   'size': list('SSMMMLL'),\n",
    "                   'weight': [8, 10, 11, 1, 20, 12, 12],\n",
    "                   'adult' : [False] * 5 + [True] * 2})\n",
    "\n",
    "gb = animals_df.groupby(['animal'])\n",
    "\n",
    "expected_df = gb.apply(GrowUp)\n",
    "print(expected_df)"
   ]
  },
  {
   "cell_type": "markdown",
   "metadata": {},
   "source": [
    "<div style=\"\">\n",
    "    <div style=\"float: left; width: 80%;\">\n",
    "        <a id=\"59\"></a>\n",
    "        <font><b>Task 59:</b></font>\n",
    "        <br><br>\n",
    "        Group by single column\n",
    "    </div>\n",
    "    <div style=\"float: right;\">\n",
    "        <a href=\"#top\" class=\"btn btn-primary btn-sm\" role=\"button\" aria-pressed=\"true\" style=\"color:white\" data-toggle=\"popover\" title=\"go to Top\">Go to Top</a>\n",
    "    </div>\n",
    "    <br style=\"clear: left;\" />\n",
    "</div> "
   ]
  },
  {
   "cell_type": "code",
   "execution_count": null,
   "metadata": {},
   "outputs": [],
   "source": [
    "print('Task 59:')\n",
    "weights = animals_df.groupby(['weight']).get_group(20)  \n",
    "print(weights)"
   ]
  },
  {
   "cell_type": "markdown",
   "metadata": {},
   "source": [
    "<div style=\"\">\n",
    "    <div style=\"float: left; width: 80%;\">\n",
    "        <a id=\"60\"></a>\n",
    "        <font><b>Task 60:</b></font>\n",
    "        <br><br>\n",
    "        Creating new Columns using Applymap\n",
    "        <br>Sides & applymap\n",
    "    </div>\n",
    "    <div style=\"float: right;\">\n",
    "        <a href=\"#top\" class=\"btn btn-primary btn-sm\" role=\"button\" aria-pressed=\"true\" style=\"color:white\" data-toggle=\"popover\" title=\"go to Top\">Go to Top</a>\n",
    "    </div>\n",
    "    <br style=\"clear: left;\" />\n",
    "</div>"
   ]
  },
  {
   "cell_type": "code",
   "execution_count": null,
   "metadata": {},
   "outputs": [],
   "source": [
    "print('Task 60:')\n",
    "sides_df = pd.DataFrame({\n",
    "    'a' : [1, 1, 2, 4],\n",
    "    'b' : [2, 1, 3, 4]\n",
    "    })  \n",
    "print(sides_df)\n",
    "source_cols = sides_df.columns\n",
    "print(source_cols)\n",
    "new_cols = [str(x)+\"_side\" for x in source_cols]\n",
    "side_category = {\n",
    "    1 : 'North',\n",
    "    2 : 'East',\n",
    "    3 : 'South', \n",
    "    4 : 'West'\n",
    "    }\n",
    "sides_df[new_cols] = sides_df[source_cols].applymap(side_category.get)\n",
    "print(sides_df)"
   ]
  },
  {
   "cell_type": "markdown",
   "metadata": {},
   "source": [
    "<div style=\"\">\n",
    "    <div style=\"float: left; width: 80%;\">\n",
    "        <a id=\"61\"></a>\n",
    "        <font><b>Task 61:</b></font>\n",
    "        <br><br>\n",
    "        Replacing some values with mean of the rest of a group\n",
    "    </div>\n",
    "    <div style=\"float: right;\">\n",
    "        <a href=\"#top\" class=\"btn btn-primary btn-sm\" role=\"button\" aria-pressed=\"true\" style=\"color:white\" data-toggle=\"popover\" title=\"go to Top\">Go to Top</a>\n",
    "    </div>\n",
    "    <br style=\"clear: left;\" />\n",
    "</div> "
   ]
  },
  {
   "cell_type": "code",
   "execution_count": null,
   "metadata": {},
   "outputs": [],
   "source": [
    "print('Task 61:')  \n",
    "df = pd.DataFrame({'A' : [1, 1, 2, 2], 'B' : [1, -1, 1, 2]})\n",
    "print(df)\n",
    "\n",
    "gb = df.groupby('A')\n",
    "\n",
    "def replace(g):\n",
    "    mask = g < 0\n",
    "    g.loc[mask] = g[~mask].mean()\n",
    "    return g\n",
    "\n",
    "gbt = gb.transform(replace)\n",
    "\n",
    "print(gbt)"
   ]
  },
  {
   "cell_type": "markdown",
   "metadata": {},
   "source": [
    "<div style=\"\">\n",
    "    <div style=\"float: left; width: 80%;\">\n",
    "        <a id=\"62\"></a>\n",
    "        <font><b>Task 62:</b></font>\n",
    "        <br><br>\n",
    "        Students passed in Language or Science (any one subject)\n",
    "    </div>\n",
    "    <div style=\"float: right;\">\n",
    "        <a href=\"#top\" class=\"btn btn-primary btn-sm\" role=\"button\" aria-pressed=\"true\" style=\"color:white\" data-toggle=\"popover\" title=\"go to Top\">Go to Top</a>\n",
    "    </div>\n",
    "    <br style=\"clear: left;\" />\n",
    "</div> "
   ]
  },
  {
   "cell_type": "code",
   "execution_count": null,
   "metadata": {},
   "outputs": [],
   "source": [
    "print('Task 62:') \n",
    "marks_df = pd.DataFrame({\n",
    "    'Language' : [60, 45, 78, 4], \n",
    "    'Math' : [90, 80, 23, 60],\n",
    "    'Science' : [45, 90, 95, 20]\n",
    "});\n",
    "print(marks_df)\n",
    "marks_df_passed_in_lang_or_sc = marks_df.loc[(marks_df.Language >=50) | (marks_df.Science >= 50)]\n",
    "print(marks_df_passed_in_lang_or_sc)"
   ]
  },
  {
   "cell_type": "markdown",
   "metadata": {},
   "source": [
    "<div style=\"\">\n",
    "    <div style=\"float: left; width: 80%;\">\n",
    "        <a id=\"\"></a>\n",
    "        <font><b>Task 63:</b></font>\n",
    "        <br><br>\n",
    "        possible errors:\n",
    "        <br>TypeError: 'Series' objects are mutable, thus they cannot be hashed\n",
    "    </div>\n",
    "    <div style=\"float: right;\">\n",
    "        <a href=\"#top\" class=\"btn btn-primary btn-sm\" role=\"button\" aria-pressed=\"true\" style=\"color:white\" data-toggle=\"popover\" title=\"go to Top\">Go to Top</a>\n",
    "    </div>\n",
    "    <br style=\"clear: left;\" />\n",
    "</div> "
   ]
  },
  {
   "cell_type": "code",
   "execution_count": null,
   "metadata": {},
   "outputs": [],
   "source": [
    "print('Task 63:')  \n",
    "marks_df['passed_one_subject'] = 'Fail' \n",
    "marks_df.loc[(marks_df.Language >=50) , 'passed_one_subject'] = 'Pass'\n",
    "print(marks_df)"
   ]
  },
  {
   "cell_type": "markdown",
   "metadata": {},
   "source": [
    "<div style=\"\">\n",
    "    <div style=\"float: left; width: 80%;\">\n",
    "        <a id=\"64\"></a>\n",
    "        <font><b>Task 64:</b></font>\n",
    "        <br><br>\n",
    "        argsort\n",
    "        <br>Select rows with data closest to certain value using argsort\n",
    "    </div>\n",
    "    <div style=\"float: right;\">\n",
    "        <a href=\"#top\" class=\"btn btn-primary btn-sm\" role=\"button\" aria-pressed=\"true\" style=\"color:white\" data-toggle=\"popover\" title=\"go to Top\">Go to Top</a>\n",
    "    </div>\n",
    "    <br style=\"clear: left;\" />\n",
    "</div> "
   ]
  },
  {
   "cell_type": "code",
   "execution_count": null,
   "metadata": {},
   "outputs": [],
   "source": [
    "print('Task 64:')  \n",
    "df = pd.DataFrame({\n",
    "    \"a\": np.random.randint(0, 100, size=(5,)), \n",
    "    \"b\": np.random.randint(0, 70, size=(5,))\n",
    "})\n",
    "print(df)\n",
    "par = 65\n",
    "print('with argsort')\n",
    "df1 = df.loc[(df.a-par).abs().argsort()]\n",
    "print(df1)\n",
    "\n",
    "print(df.loc[(df.b-2).abs().argsort()])"
   ]
  },
  {
   "cell_type": "markdown",
   "metadata": {},
   "source": [
    "<div style=\"\">\n",
    "    <div style=\"float: left; width: 80%;\">\n",
    "        <a id=\"65\"></a>\n",
    "        <font><b>Task 65:</b></font>\n",
    "        <br><br>\n",
    "        argsort with stars        \n",
    "        <br>old stars (near by 50 age) argsort\n",
    "    </div>\n",
    "    <div style=\"float: right;\">\n",
    "        <a href=\"#top\" class=\"btn btn-primary btn-sm\" role=\"button\" aria-pressed=\"true\" style=\"color:white\" data-toggle=\"popover\" title=\"go to Top\">Go to Top</a>\n",
    "    </div>\n",
    "    <br style=\"clear: left;\" />\n",
    "</div>"
   ]
  },
  {
   "cell_type": "code",
   "execution_count": null,
   "metadata": {},
   "outputs": [],
   "source": [
    "print('Task 65:')  \n",
    "stars = pd.DataFrame({\n",
    "    \"age\": [17, 50, 24, 45, 65, 18], \n",
    "    \"movies\": [2, 3, 90, 45, 34, 2] \n",
    "})\n",
    "print(stars.loc[(stars.age - 50).abs().argsort()])"
   ]
  },
  {
   "cell_type": "markdown",
   "metadata": {},
   "source": [
    "<div style=\"\">\n",
    "    <div style=\"float: left; width: 80%;\">\n",
    "        <a id=\"66\"></a>\n",
    "        <font><b>Task 66:</b></font>\n",
    "        <br><br>\n",
    "        Argsort with actors\n",
    "\n",
    "        <br>young stars (near by 17)\n",
    "    </div>\n",
    "    <div style=\"float: right;\">\n",
    "        <a href=\"#top\" class=\"btn btn-primary btn-sm\" role=\"button\" aria-pressed=\"true\" style=\"color:white\" data-toggle=\"popover\" title=\"go to Top\">Go to Top</a>\n",
    "    </div>\n",
    "    <br style=\"clear: left;\" />\n",
    "</div> "
   ]
  },
  {
   "cell_type": "code",
   "execution_count": null,
   "metadata": {},
   "outputs": [],
   "source": [
    "print('Task 66:')  \n",
    "print(stars.loc[(stars.age - 17).abs().argsort()])"
   ]
  },
  {
   "cell_type": "markdown",
   "metadata": {},
   "source": [
    "<div style=\"\">\n",
    "    <div style=\"float: left; width: 80%;\">\n",
    "        <a id=\"67\"></a>\n",
    "        <font><b>Task 67:</b></font>\n",
    "        <br><br>\n",
    "        Binary operators\n",
    "\n",
    "        <br>Stars with\n",
    "\n",
    "        <br>younger than 19 - very young\n",
    "\n",
    "        <br>more movies acted**\n",
    "    </div>\n",
    "    <div style=\"float: right;\">\n",
    "        <a href=\"#top\" class=\"btn btn-primary btn-sm\" role=\"button\" aria-pressed=\"true\" style=\"color:white\" data-toggle=\"popover\" title=\"go to Top\">Go to Top</a>\n",
    "    </div>\n",
    "    <br style=\"clear: left;\" />\n",
    "</div> "
   ]
  },
  {
   "cell_type": "code",
   "execution_count": null,
   "metadata": {},
   "outputs": [],
   "source": [
    "print('Task 67:')\n",
    "stars = pd.DataFrame({\n",
    "    \"age\": [17, 50, 24, 45, 65, 18], \n",
    "    \"movies\": [22, 33, 90, 75, 34, 2] \n",
    "})  \n",
    "print(stars)\n",
    "print('Young and more movies acted')\n",
    "young = stars.age < 30    \n",
    "more_movies = stars.movies > 30\n",
    "young_more = [young, more_movies]\n",
    "young_more_Criteria = functools.reduce(lambda x, y : x & y, young_more)\n",
    "print(stars[young_more_Criteria])"
   ]
  },
  {
   "cell_type": "markdown",
   "metadata": {},
   "source": [
    "<div style=\"\">\n",
    "    <div style=\"float: left; width: 80%;\">\n",
    "        <a id=\"68\"></a>\n",
    "        <font><b>Task 68:</b></font>\n",
    "        <br><br>\n",
    "        Young, Higher Salary, and Higher Position\n",
    "    </div>\n",
    "    <div style=\"float: right;\">\n",
    "        <a href=\"#top\" class=\"btn btn-primary btn-sm\" role=\"button\" aria-pressed=\"true\" style=\"color:white\" data-toggle=\"popover\" title=\"go to Top\">Go to Top</a>\n",
    "    </div>\n",
    "    <br style=\"clear: left;\" />\n",
    "</div> "
   ]
  },
  {
   "cell_type": "code",
   "execution_count": null,
   "metadata": {},
   "outputs": [],
   "source": [
    "print('Task 68:')  \n",
    "employees = pd.DataFrame({\n",
    "    \"age\": [17, 50, 24, 45, 65, 18], \n",
    "    \"salary\": [75, 33, 90, 175, 134, 78],\n",
    "    \"grade\" : [7, 8, 9, 2, 7, 8] \n",
    "})  \n",
    "print(employees)\n",
    "print('Young, Higher Salary, and Higher Position')\n",
    "young = employees.age < 30\n",
    "high_salary = employees.salary > 60\n",
    "high_position = employees.grade > 6\n",
    "young_salary_position = [young, high_salary, high_position]\n",
    "young_salary_position_Criteria = functools.reduce(lambda x, y : x & y, young_salary_position)\n",
    "print(employees[young_salary_position_Criteria])"
   ]
  },
  {
   "cell_type": "markdown",
   "metadata": {},
   "source": [
    "<div style=\"\">\n",
    "    <div style=\"float: left; width: 80%;\">\n",
    "        <a id=\"69\"></a>\n",
    "        <font><b>Task 69:</b></font>\n",
    "        <br><br>\n",
    "        Rename columns\n",
    "    </div>\n",
    "    <div style=\"float: right;\">\n",
    "        <a href=\"#top\" class=\"btn btn-primary btn-sm\" role=\"button\" aria-pressed=\"true\" style=\"color:white\" data-toggle=\"popover\" title=\"go to Top\">Go to Top</a>\n",
    "    </div>\n",
    "    <br style=\"clear: left;\" />\n",
    "</div>"
   ]
  },
  {
   "cell_type": "code",
   "execution_count": null,
   "metadata": {},
   "outputs": [],
   "source": [
    "print('Task 69:')  \n",
    "employees = pd.DataFrame({\n",
    "    \"age\": [17, 50, 24, 45, 65, 18], \n",
    "    \"salary\": [75, 33, 90, 175, 134, 78],\n",
    "    \"grade\" : [7, 8, 9, 2, 7, 8] \n",
    "})  \n",
    "print(employees)\n",
    "employees.rename(columns={'age': 'User Age', 'salary': 'Salary 2018'}, inplace=True)\n",
    "print(employees)"
   ]
  },
  {
   "cell_type": "markdown",
   "metadata": {},
   "source": [
    "<div style=\"\">\n",
    "    <div style=\"float: left; width: 80%;\">\n",
    "        <a id=\"70\"></a>\n",
    "        <font><b>Task 70:</b></font>\n",
    "        <br><br>\n",
    "        Add a new column\n",
    "    </div>\n",
    "    <div style=\"float: right;\">\n",
    "        <a href=\"#top\" class=\"btn btn-primary btn-sm\" role=\"button\" aria-pressed=\"true\" style=\"color:white\" data-toggle=\"popover\" title=\"go to Top\">Go to Top</a>\n",
    "    </div>\n",
    "    <br style=\"clear: left;\" />\n",
    "</div>"
   ]
  },
  {
   "cell_type": "code",
   "execution_count": null,
   "metadata": {},
   "outputs": [],
   "source": [
    "print('Task 70:')  \n",
    "employees = pd.DataFrame({\n",
    "    \"age\": [17, 50, 24, 45, 65, 18], \n",
    "    \"salary\": [75, 33, 90, 175, 134, 78],\n",
    "    \"grade\" : [7, 8, 9, 2, 7, 8] \n",
    "})  \n",
    "print(employees)\n",
    "employees['group'] = pd.Series(np.random.randn(len(employees)))\n",
    "print(employees)"
   ]
  },
  {
   "cell_type": "markdown",
   "metadata": {},
   "source": [
    "<div style=\"\">\n",
    "    <div style=\"float: left; width: 80%;\">\n",
    "        <a id=\"71\"></a>\n",
    "        <font><b>Task 71:</b></font>\n",
    "        <br><br>\n",
    "        Drop a column\n",
    "    </div>\n",
    "    <div style=\"float: right;\">\n",
    "        <a href=\"#top\" class=\"btn btn-primary btn-sm\" role=\"button\" aria-pressed=\"true\" style=\"color:white\" data-toggle=\"popover\" title=\"go to Top\">Go to Top</a>\n",
    "    </div>\n",
    "    <br style=\"clear: left;\" />\n",
    "</div> "
   ]
  },
  {
   "cell_type": "code",
   "execution_count": null,
   "metadata": {},
   "outputs": [],
   "source": [
    "print('Task 71:')  \n",
    "employees = pd.DataFrame({\n",
    "    \"age\": [17, 50, 24, 45, 65, 18], \n",
    "    \"salary\": [75, 33, 90, 175, 134, 78],\n",
    "    \"grade\" : [7, 8, 9, 2, 7, 8] \n",
    "})  \n",
    "print(employees)\n",
    "employees['group'] = pd.Series(np.random.randn(len(employees)))\n",
    "print(employees)\n",
    "employees.drop(employees.columns[[0]], axis=1, inplace = True)\n",
    "print(employees)"
   ]
  },
  {
   "cell_type": "markdown",
   "metadata": {},
   "source": [
    "<div style=\"\">\n",
    "    <div style=\"float: left; width: 80%;\">\n",
    "        <a id=\"72\"></a>\n",
    "        <font><b>Task 72:</b></font>\n",
    "        <br><br>\n",
    "        Drop multiple columns\n",
    "    </div>\n",
    "    <div style=\"float: right;\">\n",
    "        <a href=\"#top\" class=\"btn btn-primary btn-sm\" role=\"button\" aria-pressed=\"true\" style=\"color:white\" data-toggle=\"popover\" title=\"go to Top\">Go to Top</a>\n",
    "    </div>\n",
    "    <br style=\"clear: left;\" />\n",
    "</div> "
   ]
  },
  {
   "cell_type": "code",
   "execution_count": null,
   "metadata": {},
   "outputs": [],
   "source": [
    "print('Task 72:')  \n",
    "employees = pd.DataFrame({\n",
    "    \"age\": [17, 50, 24, 45, 65, 18], \n",
    "    \"salary\": [75, 33, 90, 175, 134, 78],\n",
    "    \"grade\" : [7, 8, 9, 2, 7, 8] \n",
    "})  \n",
    "print(employees)\n",
    "employees['group'] = pd.Series(np.random.randn(len(employees)))\n",
    "print(employees)\n",
    "employees.drop(employees.columns[[1, 2]], axis=1, inplace = True)\n",
    "print(employees)"
   ]
  },
  {
   "cell_type": "markdown",
   "metadata": {},
   "source": [
    "<div style=\"\">\n",
    "    <div style=\"float: left; width: 80%;\">\n",
    "        <a id=\"73\"></a>\n",
    "        <font><b>Task 73:</b></font>\n",
    "        <br><br>\n",
    "        Drop first and last column\n",
    "    </div>\n",
    "    <div style=\"float: right;\">\n",
    "        <a href=\"#top\" class=\"btn btn-primary btn-sm\" role=\"button\" aria-pressed=\"true\" style=\"color:white\" data-toggle=\"popover\" title=\"go to Top\">Go to Top</a>\n",
    "    </div>\n",
    "    <br style=\"clear: left;\" />\n",
    "</div> "
   ]
  },
  {
   "cell_type": "code",
   "execution_count": null,
   "metadata": {},
   "outputs": [],
   "source": [
    "print('Task 73:')  \n",
    "employees = pd.DataFrame({\n",
    "    \"age\": [17, 50, 24, 45, 65, 18], \n",
    "    \"salary\": [75, 33, 90, 175, 134, 78],\n",
    "    \"grade\" : [7, 8, 9, 2, 7, 8],\n",
    "    \"group\" : [1, 1, 2, 2, 2, 1] \n",
    "    \n",
    "})  \n",
    "print(employees)\n",
    "employees.drop(employees.columns[[0, len(employees.columns)-1]], axis=1, inplace = True)\n",
    "print(employees)"
   ]
  },
  {
   "cell_type": "markdown",
   "metadata": {},
   "source": [
    "<div style=\"\">\n",
    "    <div style=\"float: left; width: 80%;\">\n",
    "        <a id=\"74\"></a>\n",
    "        <font><b>Task 74:</b></font>\n",
    "        <br><br>\n",
    "        Delete by pop function\n",
    "    </div>\n",
    "    <div style=\"float: right;\">\n",
    "        <a href=\"#top\" class=\"btn btn-primary btn-sm\" role=\"button\" aria-pressed=\"true\" style=\"color:white\" data-toggle=\"popover\" title=\"go to Top\">Go to Top</a>\n",
    "    </div>\n",
    "    <br style=\"clear: left;\" />\n",
    "</div>"
   ]
  },
  {
   "cell_type": "code",
   "execution_count": null,
   "metadata": {},
   "outputs": [],
   "source": [
    "print('Task 74:')  \n",
    "employees = pd.DataFrame({\n",
    "    \"age\": [17, 50, 24, 45, 65, 18], \n",
    "    \"salary\": [75, 33, 90, 175, 134, 78],\n",
    "    \"grade\" : [7, 8, 9, 2, 7, 8],\n",
    "    \"group\" : [1, 1, 2, 2, 2, 1] \n",
    "    \n",
    "})  \n",
    "print(employees)\n",
    "group = employees.pop('group')\n",
    "print(employees)\n",
    "print(group)"
   ]
  },
  {
   "cell_type": "markdown",
   "metadata": {},
   "source": [
    "<div style=\"\">\n",
    "    <div style=\"float: left; width: 80%;\">\n",
    "        <a id=\"75\"></a>\n",
    "        <font><b>Task 75:</b></font>\n",
    "        <br><br>\n",
    "        DataFrame.from_items\n",
    "    </div>\n",
    "    <div style=\"float: right;\">\n",
    "        <a href=\"#top\" class=\"btn btn-primary btn-sm\" role=\"button\" aria-pressed=\"true\" style=\"color:white\" data-toggle=\"popover\" title=\"go to Top\">Go to Top</a>\n",
    "    </div>\n",
    "    <br style=\"clear: left;\" />\n",
    "</div>"
   ]
  },
  {
   "cell_type": "code",
   "execution_count": null,
   "metadata": {},
   "outputs": [],
   "source": [
    "print('Task 75:')  \n",
    "# df = pd.DataFrame.from_items([('A', [1, 2, 3]), ('B', [4, 5, 6]), ('C', [7,8, 9])], orient='index', columns=['one', 'two', 'three'])\n",
    "# print(df) # throwing error"
   ]
  },
  {
   "cell_type": "markdown",
   "metadata": {},
   "source": [
    "<div style=\"\">\n",
    "    <div style=\"float: left; width: 80%;\">\n",
    "        <a id=\"76\"></a>\n",
    "        <font><b>Task 76:</b></font>\n",
    "        <br><br>\n",
    "        Pandas to list\n",
    "    </div>\n",
    "    <div style=\"float: right;\">\n",
    "        <a href=\"#top\" class=\"btn btn-primary btn-sm\" role=\"button\" aria-pressed=\"true\" style=\"color:white\" data-toggle=\"popover\" title=\"go to Top\">Go to Top</a>\n",
    "    </div>\n",
    "    <br style=\"clear: left;\" />\n",
    "</div> "
   ]
  },
  {
   "cell_type": "code",
   "execution_count": null,
   "metadata": {},
   "outputs": [],
   "source": [
    "print('Task 76:')\n",
    "employees = pd.DataFrame({\n",
    "    \"age\": [17, 50, 24, 45, 65, 18], \n",
    "    \"salary\": [75, 33, 90, 175, 134, 78],\n",
    "    \"grade\" : [7, 8, 9, 2, 7, 8],\n",
    "    \"group\" : [1, 1, 2, 2, 2, 1] \n",
    "    \n",
    "})  \n",
    "print(employees)  \n",
    "employees_list1 = list(employees.columns.values) \n",
    "employees_list2 = employees.values.tolist()\n",
    "#employees_list = list(employees)\n",
    "print(employees_list1)\n",
    "print(employees_list2)"
   ]
  },
  {
   "cell_type": "markdown",
   "metadata": {},
   "source": [
    "<div style=\"\">\n",
    "    <div style=\"float: left; width: 80%;\">\n",
    "        <a id=\"77\"></a>\n",
    "        <font><b>Task 77:</b></font>\n",
    "        <br><br>\n",
    "        Pandas rows to list\n",
    "    </div>\n",
    "    <div style=\"float: right;\">\n",
    "        <a href=\"#top\" class=\"btn btn-primary btn-sm\" role=\"button\" aria-pressed=\"true\" style=\"color:white\" data-toggle=\"popover\" title=\"go to Top\">Go to Top</a>\n",
    "    </div>\n",
    "    <br style=\"clear: left;\" />\n",
    "</div> "
   ]
  },
  {
   "cell_type": "code",
   "execution_count": null,
   "metadata": {},
   "outputs": [],
   "source": [
    "print('Task 77:')\n",
    "employees = pd.DataFrame({\n",
    "    \"age\": [17, 50, 24, 45, 65, 18], \n",
    "    \"salary\": [75, 33, 90, 175, 134, 78],\n",
    "    \"grade\" : [7, 8, 9, 2, 7, 8],\n",
    "    \"group\" : [1, 1, 2, 2, 2, 1] \n",
    "    \n",
    "})  \n",
    "print(employees)  \n",
    "employees_list2 = employees.values.tolist()\n",
    "print(employees_list2)\n",
    "print(type(employees_list2))\n",
    "print(len(employees_list2))"
   ]
  },
  {
   "cell_type": "markdown",
   "metadata": {},
   "source": [
    "<div style=\"\">\n",
    "    <div style=\"float: left; width: 80%;\">\n",
    "        <a id=\"78\"></a>\n",
    "        <font><b>Task 78:</b></font>\n",
    "        <br><br>\n",
    "        XPandas rows to array \n",
    "\n",
    "        <br>Note: as_matrix is deprecatedYZ\n",
    "    </div>\n",
    "    <div style=\"float: right;\">\n",
    "        <a href=\"#top\" class=\"btn btn-primary btn-sm\" role=\"button\" aria-pressed=\"true\" style=\"color:white\" data-toggle=\"popover\" title=\"go to Top\">Go to Top</a>\n",
    "    </div>\n",
    "    <br style=\"clear: left;\" />\n",
    "</div> "
   ]
  },
  {
   "cell_type": "code",
   "execution_count": null,
   "metadata": {},
   "outputs": [],
   "source": [
    "print('Task 78:')\n",
    "employees = pd.DataFrame({\n",
    "    \"age\": [17, 50, 24, 45, 65, 18], \n",
    "    \"salary\": [75, 33, 90, 175, 134, 78],\n",
    "    \"grade\" : [7, 8, 9, 2, 7, 8],\n",
    "    \"group\" : [1, 1, 2, 2, 2, 1] \n",
    "    \n",
    "})  \n",
    "print(employees)  \n",
    "employees_list2 = employees.values\n",
    "print(employees_list2)\n",
    "print(type(employees_list2))\n",
    "print(employees_list2.shape)"
   ]
  },
  {
   "cell_type": "markdown",
   "metadata": {},
   "source": [
    "<div style=\"\">\n",
    "    <div style=\"float: left; width: 80%;\">\n",
    "        <a id=\"79\"></a>\n",
    "        <font><b>Task 79:</b></font>\n",
    "        <br><br>\n",
    "        Pandas rows to map\n",
    "    </div>\n",
    "    <div style=\"float: right;\">\n",
    "        <a href=\"#top\" class=\"btn btn-primary btn-sm\" role=\"button\" aria-pressed=\"true\" style=\"color:white\" data-toggle=\"popover\" title=\"go to Top\">Go to Top</a>\n",
    "    </div>\n",
    "    <br style=\"clear: left;\" />\n",
    "</div> "
   ]
  },
  {
   "cell_type": "code",
   "execution_count": null,
   "metadata": {},
   "outputs": [],
   "source": [
    "print('Task 79:')\n",
    "employees = pd.DataFrame({\n",
    "    \"age\": [17, 50, 24, 45, 65, 18], \n",
    "    \"salary\": [75, 33, 90, 175, 134, 78],\n",
    "    \"grade\" : [7, 8, 9, 2, 7, 8],\n",
    "    \"group\" : [1, 1, 2, 2, 2, 1] \n",
    "    \n",
    "})  \n",
    "print(employees)  \n",
    "employees_list2 = map(list, employees.values)\n",
    "print(employees_list2)\n",
    "print(type(employees_list2))"
   ]
  },
  {
   "cell_type": "markdown",
   "metadata": {},
   "source": [
    "<div style=\"\">\n",
    "    <div style=\"float: left; width: 80%;\">\n",
    "        <a id=\"80\"></a>\n",
    "        <font><b>Task 80:</b></font>\n",
    "        <br><br>\n",
    "        Pandas rows to map\n",
    "    </div>\n",
    "    <div style=\"float: right;\">\n",
    "        <a href=\"#top\" class=\"btn btn-primary btn-sm\" role=\"button\" aria-pressed=\"true\" style=\"color:white\" data-toggle=\"popover\" title=\"go to Top\">Go to Top</a>\n",
    "    </div>\n",
    "    <br style=\"clear: left;\" />\n",
    "</div>"
   ]
  },
  {
   "cell_type": "code",
   "execution_count": null,
   "metadata": {},
   "outputs": [],
   "source": [
    "print('Task 80:')\n",
    "employees = pd.DataFrame({\n",
    "    \"age\": [17, 50, 24, 45, 65, 18], \n",
    "    \"salary\": [75, 33, 90, 175, 134, 78],\n",
    "    \"grade\" : [7, 8, 9, 2, 7, 8],\n",
    "    \"group\" : [1, 1, 2, 2, 2, 1] \n",
    "    \n",
    "})  \n",
    "print(employees)  \n",
    "employees_list2 = list(map(list, employees.values))\n",
    "print(employees_list2)\n",
    "print(type(employees_list2))"
   ]
  },
  {
   "cell_type": "markdown",
   "metadata": {},
   "source": [
    "<div style=\"\">\n",
    "    <div style=\"float: left; width: 80%;\">\n",
    "        <a id=\"81\"></a>\n",
    "        <font><b>Task 81:</b></font>\n",
    "        <br><br>\n",
    "        Drop duplicates\n",
    "    </div>\n",
    "    <div style=\"float: right;\">\n",
    "        <a href=\"#top\" class=\"btn btn-primary btn-sm\" role=\"button\" aria-pressed=\"true\" style=\"color:white\" data-toggle=\"popover\" title=\"go to Top\">Go to Top</a>\n",
    "    </div>\n",
    "    <br style=\"clear: left;\" />\n",
    "</div> "
   ]
  },
  {
   "cell_type": "code",
   "execution_count": null,
   "metadata": {},
   "outputs": [],
   "source": [
    "print('Task 81:')  \n",
    "users = pd.DataFrame({\n",
    "    \"id\": [1, 1, 2, 2, 3, 3], \n",
    "    \"city\": ['Toronto', 'Montreal', 'Calgary', 'Montreal', 'Montreal', 'Ottawa'],\n",
    "    \"count\" : [7, 8, 9, 2, 7, 8] \n",
    "    \n",
    "}) \n",
    "print(users)\n",
    "users.drop_duplicates('id', inplace=True, keep='last')\n",
    "print(users)"
   ]
  },
  {
   "cell_type": "markdown",
   "metadata": {},
   "source": [
    "<div style=\"\">\n",
    "    <div style=\"float: left; width: 80%;\">\n",
    "        <a id=\"82\"></a>\n",
    "        <font><b>Task 82:</b></font>\n",
    "        <br><br>\n",
    "        Selecting multiple columns\n",
    "    </div>\n",
    "    <div style=\"float: right;\">\n",
    "        <a href=\"#top\" class=\"btn btn-primary btn-sm\" role=\"button\" aria-pressed=\"true\" style=\"color:white\" data-toggle=\"popover\" title=\"go to Top\">Go to Top</a>\n",
    "    </div>\n",
    "    <br style=\"clear: left;\" />\n",
    "</div> "
   ]
  },
  {
   "cell_type": "code",
   "execution_count": null,
   "metadata": {},
   "outputs": [],
   "source": [
    "print('Task 82:')  \n",
    "users = pd.DataFrame({\n",
    "    \"id\": [1, 1, 2, 2, 3, 3], \n",
    "    \"city\": ['Toronto', 'Montreal', 'Calgary', 'Montreal', 'Montreal', 'Ottawa'],\n",
    "    \"count\" : [7, 8, 9, 2, 7, 8] \n",
    "    \n",
    "}) \n",
    "print(users)\n",
    "users1 = users[['id', 'city']]\n",
    "print(users1)"
   ]
  },
  {
   "cell_type": "markdown",
   "metadata": {},
   "source": [
    "<div style=\"\">\n",
    "    <div style=\"float: left; width: 80%;\">\n",
    "        <a id=\"83\"></a>\n",
    "        <font><b>Task 83:</b></font>\n",
    "        <br><br>\n",
    "        Selecting multiple columns\n",
    "    </div>\n",
    "    <div style=\"float: right;\">\n",
    "        <a href=\"#top\" class=\"btn btn-primary btn-sm\" role=\"button\" aria-pressed=\"true\" style=\"color:white\" data-toggle=\"popover\" title=\"go to Top\">Go to Top</a>\n",
    "    </div>\n",
    "    <br style=\"clear: left;\" />\n",
    "</div>"
   ]
  },
  {
   "cell_type": "code",
   "execution_count": null,
   "metadata": {},
   "outputs": [],
   "source": [
    "print('Task 83:')  \n",
    "users = pd.DataFrame({\n",
    "    \"id\": [1, 1, 2, 2, 3, 3], \n",
    "    \"city\": ['Toronto', 'Montreal', 'Calgary', 'Montreal', 'Montreal', 'Ottawa'],\n",
    "    \"count\" : [7, 8, 9, 2, 7, 8] \n",
    "}) \n",
    "print(users)\n",
    "columns = ['id', 'count']\n",
    "users1 = pd.DataFrame(users, columns=columns)\n",
    "print(users1)"
   ]
  },
  {
   "cell_type": "markdown",
   "metadata": {},
   "source": [
    "<div style=\"\">\n",
    "    <div style=\"float: left; width: 80%;\">\n",
    "        <a id=\"84\"></a>\n",
    "        <font><b>Task 84:</b></font>\n",
    "        <br><br>\n",
    "        Row and Column Slicing\n",
    "    </div>\n",
    "    <div style=\"float: right;\">\n",
    "        <a href=\"#top\" class=\"btn btn-primary btn-sm\" role=\"button\" aria-pressed=\"true\" style=\"color:white\" data-toggle=\"popover\" title=\"go to Top\">Go to Top</a>\n",
    "    </div>\n",
    "    <br style=\"clear: left;\" />\n",
    "</div> "
   ]
  },
  {
   "cell_type": "code",
   "execution_count": null,
   "metadata": {},
   "outputs": [],
   "source": [
    "print('Task 84:')  \n",
    "users = pd.DataFrame({\n",
    "    \"id\": [1, 1, 2, 2, 3, 3], \n",
    "    \"city\": ['Toronto', 'Montreal', 'Calgary', 'Montreal', 'Montreal', 'Ottawa'],\n",
    "    \"count\" : [7, 8, 9, 2, 7, 8] \n",
    "    \n",
    "}) \n",
    "print(users)    \n",
    "users1 = users.iloc[0:2, 1:3]\n",
    "print(users1)"
   ]
  },
  {
   "cell_type": "markdown",
   "metadata": {},
   "source": [
    "<div style=\"\">\n",
    "    <div style=\"float: left; width: 80%;\">\n",
    "        <a id=\"85\"></a>\n",
    "        <font><b>Task 85:</b></font>\n",
    "        <br><br>\n",
    "        Iterating rows\n",
    "    </div>\n",
    "    <div style=\"float: right;\">\n",
    "        <a href=\"#top\" class=\"btn btn-primary btn-sm\" role=\"button\" aria-pressed=\"true\" style=\"color:white\" data-toggle=\"popover\" title=\"go to Top\">Go to Top</a>\n",
    "    </div>\n",
    "    <br style=\"clear: left;\" />\n",
    "</div>"
   ]
  },
  {
   "cell_type": "code",
   "execution_count": null,
   "metadata": {},
   "outputs": [],
   "source": [
    "print('Task 85:')  \n",
    "users = pd.DataFrame({\n",
    "    \"id\": [1, 1, 2, 2, 3, 3], \n",
    "    \"city\": ['Toronto', 'Montreal', 'Calgary', 'Montreal', 'Montreal', 'Ottawa'],\n",
    "    \"count\" : [7, 8, 9, 2, 7, 8] \n",
    "    \n",
    "}) \n",
    "print(users)    \n",
    "for index, row in users.iterrows():\n",
    "    print(row['city'], \"==>\", row['count'])"
   ]
  },
  {
   "cell_type": "markdown",
   "metadata": {},
   "source": [
    "<div style=\"\">\n",
    "    <div style=\"float: left; width: 80%;\">\n",
    "        <a id=\"86\"></a>\n",
    "        <font><b>Task 86:</b></font>\n",
    "        <br><br>\n",
    "        Iterating tuples\n",
    "    </div>\n",
    "    <div style=\"float: right;\">\n",
    "        <a href=\"#top\" class=\"btn btn-primary btn-sm\" role=\"button\" aria-pressed=\"true\" style=\"color:white\" data-toggle=\"popover\" title=\"go to Top\">Go to Top</a>\n",
    "    </div>\n",
    "    <br style=\"clear: left;\" />\n",
    "</div> "
   ]
  },
  {
   "cell_type": "code",
   "execution_count": null,
   "metadata": {},
   "outputs": [],
   "source": [
    "print('Task 86:')  \n",
    "users = pd.DataFrame({\n",
    "    \"id\": [1, 1, 2, 2, 3, 3], \n",
    "    \"city\": ['Toronto', 'Montreal', 'Calgary', 'Montreal', 'Montreal', 'Ottawa'],\n",
    "    \"count\" : [7, 8, 9, 2, 7, 8] \n",
    "    \n",
    "}) \n",
    "print(users)    \n",
    "for row in users.itertuples(index=True, name='Pandas'):\n",
    "    print(getattr(row, 'city'))\n",
    "    \n",
    "for row in users.itertuples(index=True, name='Pandas'):\n",
    "    print(row.count)"
   ]
  },
  {
   "cell_type": "markdown",
   "metadata": {},
   "source": [
    "<div style=\"\">\n",
    "    <div style=\"float: left; width: 80%;\">\n",
    "        <a id=\"87\"></a>\n",
    "        <font><b>Task 87:</b></font>\n",
    "        <br><br>\n",
    "        Iterating rows and columns\n",
    "    </div>\n",
    "    <div style=\"float: right;\">\n",
    "        <a href=\"#top\" class=\"btn btn-primary btn-sm\" role=\"button\" aria-pressed=\"true\" style=\"color:white\" data-toggle=\"popover\" title=\"go to Top\">Go to Top</a>\n",
    "    </div>\n",
    "    <br style=\"clear: left;\" />\n",
    "</div> "
   ]
  },
  {
   "cell_type": "code",
   "execution_count": null,
   "metadata": {},
   "outputs": [],
   "source": [
    "print('Task 87:')  \n",
    "users = pd.DataFrame({\n",
    "    \"id\": [1, 1, 2, 2, 3, 3], \n",
    "    \"city\": ['Toronto', 'Montreal', 'Calgary', 'Montreal', 'Montreal', 'Ottawa'],\n",
    "    \"count\" : [7, 8, 9, 2, 7, 8] \n",
    "    \n",
    "}) \n",
    "print(users)    \n",
    "for i, row in users.iterrows():\n",
    "    for j, col in row.iteritems():    \n",
    "        print(col)"
   ]
  },
  {
   "cell_type": "markdown",
   "metadata": {},
   "source": [
    "<div style=\"\">\n",
    "    <div style=\"float: left; width: 80%;\">\n",
    "        <a id=\"88\"></a>\n",
    "        <font><b>Task 88:</b></font>\n",
    "        <br><br>\n",
    "        List of Dictionary to Dataframe\n",
    "    </div>\n",
    "    <div style=\"float: right;\">\n",
    "        <a href=\"#top\" class=\"btn btn-primary btn-sm\" role=\"button\" aria-pressed=\"true\" style=\"color:white\" data-toggle=\"popover\" title=\"go to Top\">Go to Top</a>\n",
    "    </div>\n",
    "    <br style=\"clear: left;\" />\n",
    "</div> "
   ]
  },
  {
   "cell_type": "code",
   "execution_count": null,
   "metadata": {},
   "outputs": [],
   "source": [
    "print('Task 88:')  \n",
    "pointlist = [\n",
    "                {'points': 50, 'time': '5:00', 'year': 2010}, \n",
    "                {'points': 25, 'time': '6:00', 'month': \"february\"}, \n",
    "                {'points':90, 'time': '9:00', 'month': 'january'}, \n",
    "                {'points_h1':20, 'month': 'june'}\n",
    "            ]\n",
    "print(pointlist)\n",
    "pointDf = pd.DataFrame(pointlist)\n",
    "print(pointDf)\n",
    "\n",
    "pointDf1 = pd.DataFrame.from_dict(pointlist)\n",
    "print(pointDf1)"
   ]
  },
  {
   "cell_type": "markdown",
   "metadata": {},
   "source": [
    "<div style=\"\">\n",
    "    <div style=\"float: left; width: 80%;\">\n",
    "        <a id=\"89\"></a>\n",
    "        <font><b>Task 89:</b></font>\n",
    "        <br><br>\n",
    "        NaN values\n",
    "    </div>\n",
    "    <div style=\"float: right;\">\n",
    "        <a href=\"#top\" class=\"btn btn-primary btn-sm\" role=\"button\" aria-pressed=\"true\" style=\"color:white\" data-toggle=\"popover\" title=\"go to Top\">Go to Top</a>\n",
    "    </div>\n",
    "    <br style=\"clear: left;\" />\n",
    "</div> "
   ]
  },
  {
   "cell_type": "code",
   "execution_count": null,
   "metadata": {},
   "outputs": [],
   "source": [
    "print('Task 89:')\n",
    "df = pd.DataFrame(np.random.randn(10,6))\n",
    "# Make a few areas have NaN values\n",
    "df.iloc[1:3,1] = np.nan\n",
    "df.iloc[5,3] = np.nan\n",
    "df.iloc[7:9,5] = np.nan\n",
    "print(df)\n",
    "df1 = df.isnull()\n",
    "print(df1)"
   ]
  },
  {
   "cell_type": "markdown",
   "metadata": {},
   "source": [
    "<div style=\"\">\n",
    "    <div style=\"float: left; width: 80%;\">\n",
    "        <a id=\"90\"></a>\n",
    "        <font><b>Task 90:</b></font>\n",
    "        <br><br>\n",
    "        Sum of all nan\n",
    "    </div>\n",
    "    <div style=\"float: right;\">\n",
    "        <a href=\"#top\" class=\"btn btn-primary btn-sm\" role=\"button\" aria-pressed=\"true\" style=\"color:white\" data-toggle=\"popover\" title=\"go to Top\">Go to Top</a>\n",
    "    </div>\n",
    "    <br style=\"clear: left;\" />\n",
    "</div>"
   ]
  },
  {
   "cell_type": "code",
   "execution_count": null,
   "metadata": {},
   "outputs": [],
   "source": [
    "print('Task 90:')  \n",
    "df = pd.DataFrame(np.random.randn(10,6))\n",
    "# Make a few areas have NaN values\n",
    "df.iloc[1:3,1] = np.nan\n",
    "df.iloc[5,3] = np.nan\n",
    "df.iloc[7:9,5] = np.nan\n",
    "print(df)\n",
    "print(df.isnull().sum())\n",
    "print(df.isnull().sum(axis=1))\n",
    "print(df.isnull().sum().tolist())"
   ]
  },
  {
   "cell_type": "markdown",
   "metadata": {},
   "source": [
    "<div style=\"\">\n",
    "    <div style=\"float: left; width: 80%;\">\n",
    "        <a id=\"91\"></a>\n",
    "        <font><b>Task 91:</b></font>\n",
    "        <br><br>\n",
    "        Sum of all nan rowwise\n",
    "    </div>\n",
    "    <div style=\"float: right;\">\n",
    "        <a href=\"#top\" class=\"btn btn-primary btn-sm\" role=\"button\" aria-pressed=\"true\" style=\"color:white\" data-toggle=\"popover\" title=\"go to Top\">Go to Top</a>\n",
    "    </div>\n",
    "    <br style=\"clear: left;\" />\n",
    "</div> "
   ]
  },
  {
   "cell_type": "code",
   "execution_count": null,
   "metadata": {},
   "outputs": [],
   "source": [
    "print('Task 91:')  \n",
    "df = pd.DataFrame(np.random.randn(10,6))\n",
    "# Make a few areas have NaN values\n",
    "df.iloc[1:3,1] = np.nan\n",
    "df.iloc[5,3] = np.nan\n",
    "df.iloc[7:9,5] = np.nan\n",
    "print(df)\n",
    "print(df.isnull().sum(axis=1))"
   ]
  },
  {
   "cell_type": "markdown",
   "metadata": {},
   "source": [
    "<div style=\"\">\n",
    "    <div style=\"float: left; width: 80%;\">\n",
    "        <a id=\"92\"></a>\n",
    "        <font><b>Task 92:</b></font>\n",
    "        <br><br>\n",
    "        Sum of all nan as list\n",
    "    </div>\n",
    "    <div style=\"float: right;\">\n",
    "        <a href=\"#top\" class=\"btn btn-primary btn-sm\" role=\"button\" aria-pressed=\"true\" style=\"color:white\" data-toggle=\"popover\" title=\"go to Top\">Go to Top</a>\n",
    "    </div>\n",
    "    <br style=\"clear: left;\" />\n",
    "</div> "
   ]
  },
  {
   "cell_type": "code",
   "execution_count": null,
   "metadata": {},
   "outputs": [],
   "source": [
    "print('Task 92:')  \n",
    "df = pd.DataFrame(np.random.randn(10,6))\n",
    "# Make a few areas have NaN values\n",
    "df.iloc[1:3,1] = np.nan\n",
    "df.iloc[5,3] = np.nan\n",
    "df.iloc[7:9,5] = np.nan\n",
    "print(df)\n",
    "print(df.isnull().sum().tolist())"
   ]
  },
  {
   "cell_type": "markdown",
   "metadata": {},
   "source": [
    "<div style=\"\">\n",
    "    <div style=\"float: left; width: 80%;\">\n",
    "        <a id=\"93\"></a>\n",
    "        <font><b>Task 93:</b></font>\n",
    "        <br><br>\n",
    "        Change the order of columns\n",
    "\n",
    "        Note:\n",
    "            FutureWarning: '.reindex_axis' is deprecated and will be removed in a future version \n",
    "    </div>\n",
    "    <div style=\"float: right;\">\n",
    "        <a href=\"#top\" class=\"btn btn-primary btn-sm\" role=\"button\" aria-pressed=\"true\" style=\"color:white\" data-toggle=\"popover\" title=\"go to Top\">Go to Top</a>\n",
    "    </div>\n",
    "    <br style=\"clear: left;\" />\n",
    "</div>"
   ]
  },
  {
   "cell_type": "code",
   "execution_count": null,
   "metadata": {},
   "outputs": [],
   "source": [
    "print('Task 93:')  \n",
    "users = pd.DataFrame({\n",
    "    \"id\": [1, 1, 2, 2, 3, 3], \n",
    "    \"city\": ['Toronto', 'Montreal', 'Calgary', 'Montreal', 'Montreal', 'Ottawa'],\n",
    "    \"count\" : [7, 8, 9, 2, 7, 8] \n",
    "    \n",
    "}) \n",
    "print(users)\n",
    "\n",
    "# below line throws error\n",
    "# users1 = users.reindex_axis(['city', 'count', 'id'], axis=1)\n",
    "# print(users1)\n",
    "\n",
    "users2 = users.reindex(columns=['city', 'id', 'count'])\n",
    "print(users2)"
   ]
  },
  {
   "cell_type": "markdown",
   "metadata": {},
   "source": [
    "<div style=\"\">\n",
    "    <div style=\"float: left; width: 80%;\">\n",
    "        <a id=\"94\"></a>\n",
    "        <font><b>Task 94:</b></font>\n",
    "        <br><br>\n",
    "        Drop multiple rows\n",
    "    </div>\n",
    "    <div style=\"float: right;\">\n",
    "        <a href=\"#top\" class=\"btn btn-primary btn-sm\" role=\"button\" aria-pressed=\"true\" style=\"color:white\" data-toggle=\"popover\" title=\"go to Top\">Go to Top</a>\n",
    "    </div>\n",
    "    <br style=\"clear: left;\" />\n",
    "</div> "
   ]
  },
  {
   "cell_type": "code",
   "execution_count": null,
   "metadata": {},
   "outputs": [],
   "source": [
    "print('Task 94:')\n",
    "numbers = pd.DataFrame({\n",
    "    \"id\": [1, 2, 3, 4, 5, 6], \n",
    "    \"number\": [10, 20, 30, 30, 23, 12]\n",
    "    \n",
    "})  \n",
    "print(numbers)\n",
    "numbers.drop(numbers.index[[0, 3, 5]], inplace=True)\n",
    "print(numbers)"
   ]
  },
  {
   "cell_type": "markdown",
   "metadata": {},
   "source": [
    "<div style=\"\">\n",
    "    <div style=\"float: left; width: 80%;\">\n",
    "        <a id=\"95\"></a>\n",
    "        <font><b>Task 95:</b></font>\n",
    "        <br><br>\n",
    "        Drop multiple rows by row name\n",
    "    </div>\n",
    "    <div style=\"float: right;\">\n",
    "        <a href=\"#top\" class=\"btn btn-primary btn-sm\" role=\"button\" aria-pressed=\"true\" style=\"color:white\" data-toggle=\"popover\" title=\"go to Top\">Go to Top</a>\n",
    "    </div>\n",
    "    <br style=\"clear: left;\" />\n",
    "</div>"
   ]
  },
  {
   "cell_type": "code",
   "execution_count": null,
   "metadata": {},
   "outputs": [],
   "source": [
    "print('Task 95:')  \n",
    "numbers = pd.DataFrame({\n",
    "    \"id\": [1, 2, 3, 4, 5, 6], \n",
    "    \"number\": [10, 20, 30, 30, 23, 12]\n",
    "    \n",
    "}, index=['one', 'two', 'three', 'four', 'five', 'six'])  \n",
    "print(numbers)\n",
    "numbers1 = numbers.drop(['two','six'])\n",
    "print(numbers1)\n",
    "numbers2 = numbers.drop('two')\n",
    "print(numbers2)"
   ]
  },
  {
   "cell_type": "markdown",
   "metadata": {},
   "source": [
    "<div style=\"\">\n",
    "    <div style=\"float: left; width: 80%;\">\n",
    "        <a id=\"96\"></a>\n",
    "        <font><b>Task :</b></font>\n",
    "        <br><br>\n",
    "        Get group\n",
    "    </div>\n",
    "    <div style=\"float: right;\">\n",
    "        <a href=\"#top\" class=\"btn btn-primary btn-sm\" role=\"button\" aria-pressed=\"true\" style=\"color:white\" data-toggle=\"popover\" title=\"go to Top\">Go to Top</a>\n",
    "    </div>\n",
    "    <br style=\"clear: left;\" />\n",
    "</div> "
   ]
  },
  {
   "cell_type": "code",
   "execution_count": null,
   "metadata": {},
   "outputs": [],
   "source": [
    "print('Task 96:')\n",
    "cats = animals_df.groupby(['animal']).get_group('cat')\n",
    "print(cats)"
   ]
  },
  {
   "cell_type": "markdown",
   "metadata": {},
   "source": []
  },
  {
   "cell_type": "markdown",
   "metadata": {},
   "source": [
    "<div style=\"\">\n",
    "    <div style=\"float: left; width: 80%;\">\n",
    "        <a id=\"97\"></a>\n",
    "        <font><b>Task 97:</b></font>\n",
    "        <br><br>\n",
    "        Get the the odd row\n",
    "    </div>\n",
    "    <div style=\"float: right;\">\n",
    "        <a href=\"#top\" class=\"btn btn-primary btn-sm\" role=\"button\" aria-pressed=\"true\" style=\"color:white\" data-toggle=\"popover\" title=\"go to Top\">Go to Top</a>\n",
    "    </div>\n",
    "    <br style=\"clear: left;\" />\n",
    "</div>"
   ]
  },
  {
   "cell_type": "code",
   "execution_count": null,
   "metadata": {},
   "outputs": [],
   "source": [
    "print('Task 97:')  \n",
    "x = numpy.array([\n",
    "                    [ 1,  2,  3,  4,  5],\n",
    "                    [ 6,  7,  8,  9, 10],\n",
    "                    [11, 12, 13, 14, 15],\n",
    "                    [16, 17, 18, 19, 20]\n",
    "                ]\n",
    "    )\n",
    "print(x)\n",
    "print(x[::2])"
   ]
  },
  {
   "cell_type": "markdown",
   "metadata": {},
   "source": [
    "<div style=\"\">\n",
    "    <div style=\"float: left; width: 80%;\">\n",
    "        <a id=\"98\"></a>\n",
    "        <font><b>Task 98:</b></font>\n",
    "        <br><br>\n",
    "        Get the even columns\n",
    "    </div>\n",
    "    <div style=\"float: right;\">\n",
    "        <a href=\"#top\" class=\"btn btn-primary btn-sm\" role=\"button\" aria-pressed=\"true\" style=\"color:white\" data-toggle=\"popover\" title=\"go to Top\">Go to Top</a>\n",
    "    </div>\n",
    "    <br style=\"clear: left;\" />\n",
    "</div> "
   ]
  },
  {
   "cell_type": "code",
   "execution_count": null,
   "metadata": {},
   "outputs": [],
   "source": [
    "print('Task 98:')  \n",
    "x = numpy.array([\n",
    "                    [ 1,  2,  3,  4,  5],\n",
    "                    [ 6,  7,  8,  9, 10],\n",
    "                    [11, 12, 13, 14, 15],\n",
    "                    [16, 17, 18, 19, 20]\n",
    "                ]\n",
    "    )\n",
    "print(x)\n",
    "print(x[:, 1::2])"
   ]
  },
  {
   "cell_type": "markdown",
   "metadata": {},
   "source": [
    "<div style=\"\">\n",
    "    <div style=\"float: left; width: 80%;\">\n",
    "        <a id=\"99\"></a>\n",
    "        <font><b>Task 99:</b></font>\n",
    "        <br><br>\n",
    "        Odd rows and even columns\n",
    "    </div>\n",
    "    <div style=\"float: right;\">\n",
    "        <a href=\"#top\" class=\"btn btn-primary btn-sm\" role=\"button\" aria-pressed=\"true\" style=\"color:white\" data-toggle=\"popover\" title=\"go to Top\">Go to Top</a>\n",
    "    </div>\n",
    "    <br style=\"clear: left;\" />\n",
    "</div> "
   ]
  },
  {
   "cell_type": "code",
   "execution_count": null,
   "metadata": {},
   "outputs": [],
   "source": [
    "print('Task 99:')  \n",
    "\n",
    "x = numpy.array([\n",
    "                    [ 1,  2,  3,  4,  5],\n",
    "                    [ 6,  7,  8,  9, 10],\n",
    "                    [11, 12, 13, 14, 15],\n",
    "                    [16, 17, 18, 19, 20]\n",
    "                ]\n",
    "    )\n",
    "print(x)\n",
    "print(x[::2, 1::2])"
   ]
  },
  {
   "cell_type": "markdown",
   "metadata": {},
   "source": [
    "<div style=\"\">\n",
    "    <div style=\"float: left; width: 80%;\">\n",
    "        <a id=\"100\"></a>\n",
    "        <font><b>Task 100:</b></font>\n",
    "        <br><br>\n",
    "        Drop duplicates\n",
    "    </div>\n",
    "    <div style=\"float: right;\">\n",
    "        <a href=\"#top\" class=\"btn btn-primary btn-sm\" role=\"button\" aria-pressed=\"true\" style=\"color:white\" data-toggle=\"popover\" title=\"go to Top\">Go to Top</a>\n",
    "    </div>\n",
    "    <br style=\"clear: left;\" />\n",
    "</div>"
   ]
  },
  {
   "cell_type": "code",
   "execution_count": null,
   "metadata": {},
   "outputs": [],
   "source": [
    "print('Task 100:')  \n",
    "users = pd.DataFrame({\n",
    "    \"id\": [1, 1, 2, 2, 3, 3], \n",
    "    \"city\": ['Toronto', 'Montreal', 'Calgary', 'Montreal', 'Montreal', 'Ottawa'],\n",
    "    \"count\" : [7, 8, 9, 2, 7, 8] \n",
    "    \n",
    "}) \n",
    "print(users)\n",
    "users.drop_duplicates('id', inplace=True)\n",
    "print(users)"
   ]
  },
  {
   "cell_type": "markdown",
   "metadata": {},
   "source": [
    "<div style=\"\">\n",
    "    <div style=\"float: left; width: 80%;\">\n",
    "        <a id=\"101\"></a>\n",
    "        <font><b>Task 101:</b></font>\n",
    "        <br><br>\n",
    "        Drop all duplicates\n",
    "    </div>\n",
    "    <div style=\"float: right;\">\n",
    "        <a href=\"#top\" class=\"btn btn-primary btn-sm\" role=\"button\" aria-pressed=\"true\" style=\"color:white\" data-toggle=\"popover\" title=\"go to Top\">Go to Top</a>\n",
    "    </div>\n",
    "    <br style=\"clear: left;\" />\n",
    "</div>"
   ]
  },
  {
   "cell_type": "code",
   "execution_count": null,
   "metadata": {},
   "outputs": [],
   "source": [
    "print('Task 101:')  \n",
    "users = pd.DataFrame({\n",
    "    \"name\": ['kevin', 'james', 'kumar', 'kevin', 'kevin', 'james'], \n",
    "    \"city\": ['Toronto', 'Montreal', 'Calgary', 'Montreal', 'Montreal', 'Ottawa'],\n",
    "    \"count\" : [7, 8, 9, 2, 7, 8] \n",
    "    \n",
    "}) \n",
    "print(users)\n",
    "users.drop_duplicates('name', inplace=True, keep='last')\n",
    "print(users)\n",
    "users1 = users.drop_duplicates('name', keep=False)\n",
    "print(users1)"
   ]
  },
  {
   "cell_type": "markdown",
   "metadata": {},
   "source": [
    "<div style=\"\">\n",
    "    <div style=\"float: left; width: 80%;\">\n",
    "        <a id=\"102\"></a>\n",
    "        <font><b>Task 102:</b></font>\n",
    "        <br><br>\n",
    "        Basic group by\n",
    "    </div>\n",
    "    <div style=\"float: right;\">\n",
    "        <a href=\"#top\" class=\"btn btn-primary btn-sm\" role=\"button\" aria-pressed=\"true\" style=\"color:white\" data-toggle=\"popover\" title=\"go to Top\">Go to Top</a>\n",
    "    </div>\n",
    "    <br style=\"clear: left;\" />\n",
    "</div> "
   ]
  },
  {
   "cell_type": "code",
   "execution_count": null,
   "metadata": {},
   "outputs": [],
   "source": [
    "print('Task 102:')\n",
    "animals_df1 = animals_df.groupby('animal').apply(lambda x: x['size'][x['weight'].idxmax()])\n",
    "print(animals_df1)"
   ]
  },
  {
   "cell_type": "markdown",
   "metadata": {},
   "source": [
    "<div style=\"\">\n",
    "    <div style=\"float: left; width: 80%;\">\n",
    "        <a id=\"102\"></a>\n",
    "        <font><b>Task 103:</b></font>\n",
    "        <br><br>\n",
    "        Missing Data:\n",
    "        Make A'th 3rd coulmn Nan\n",
    "    </div>\n",
    "    <div style=\"float: right;\">\n",
    "        <a href=\"#top\" class=\"btn btn-primary btn-sm\" role=\"button\" aria-pressed=\"true\" style=\"color:white\" data-toggle=\"popover\" title=\"go to Top\">Go to Top</a>\n",
    "    </div>\n",
    "    <br style=\"clear: left;\" />\n",
    "</div> "
   ]
  },
  {
   "cell_type": "code",
   "execution_count": null,
   "metadata": {},
   "outputs": [],
   "source": [
    "print('Task 103:')  \n",
    "df = pd.DataFrame(np.random.randn(6,1), index=pd.date_range('2013-08-01', periods=6, freq='B'), columns=list('A'))\n",
    "print(df)\n",
    "df.loc[df.index[3], 'A'] = np.nan\n",
    "print(df)"
   ]
  },
  {
   "cell_type": "markdown",
   "metadata": {},
   "source": [
    "<div style=\"\">\n",
    "    <div style=\"float: left; width: 80%;\">\n",
    "        <a id=\"104\"></a>\n",
    "        <font><b>Task 104:</b></font>\n",
    "        <br><br>\n",
    "        reindex\n",
    "    </div>\n",
    "    <div style=\"float: right;\">\n",
    "        <a href=\"#top\" class=\"btn btn-primary btn-sm\" role=\"button\" aria-pressed=\"true\" style=\"color:white\" data-toggle=\"popover\" title=\"go to Top\">Go to Top</a>\n",
    "    </div>\n",
    "    <br style=\"clear: left;\" />\n",
    "</div> "
   ]
  },
  {
   "cell_type": "code",
   "execution_count": null,
   "metadata": {},
   "outputs": [],
   "source": [
    "print('Task 104:')\n",
    "df1 = df.reindex(df.index[::-1]).ffill()\n",
    "print(df1)"
   ]
  },
  {
   "cell_type": "markdown",
   "metadata": {},
   "source": [
    "<div style=\"\">\n",
    "    <div style=\"float: left; width: 80%;\">\n",
    "        <a id=\"105\"></a>\n",
    "        <font><b>Task 105:</b></font>\n",
    "        <br><br>\n",
    "        Column reset Nan\n",
    "    </div>\n",
    "    <div style=\"float: right;\">\n",
    "        <a href=\"#top\" class=\"btn btn-primary btn-sm\" role=\"button\" aria-pressed=\"true\" style=\"color:white\" data-toggle=\"popover\" title=\"go to Top\">Go to Top</a>\n",
    "    </div>\n",
    "    <br style=\"clear: left;\" />\n",
    "</div>"
   ]
  },
  {
   "cell_type": "code",
   "execution_count": null,
   "metadata": {},
   "outputs": [],
   "source": [
    "print('Task 105:')\n",
    "animals_df = pd.DataFrame({'animal': 'cat dog cat fish dog cat cat'.split(),\n",
    "                   'size': list('SSMMMLL'),\n",
    "                   'weight': [8, 10, 11, 1, 20, 12, 12],\n",
    "                   'adult' : [False] * 5 + [True] * 2})\n",
    "print(animals_df)"
   ]
  },
  {
   "cell_type": "markdown",
   "metadata": {},
   "source": [
    "### Extras"
   ]
  },
  {
   "cell_type": "markdown",
   "metadata": {},
   "source": [
    "<div style=\"\">\n",
    "    <div style=\"float: left; width: 80%;\">\n",
    "        <a id=\"106\"></a>\n",
    "        <font><b>Task 106:</b></font>\n",
    "        <br><br>\n",
    "        Change columns\n",
    "    </div>\n",
    "    <div style=\"float: right;\">\n",
    "        <a href=\"#top\" class=\"btn btn-primary btn-sm\" role=\"button\" aria-pressed=\"true\" style=\"color:white\" data-toggle=\"popover\" title=\"go to Top\">Go to Top</a>\n",
    "    </div>\n",
    "    <br style=\"clear: left;\" />\n",
    "</div>"
   ]
  },
  {
   "cell_type": "code",
   "execution_count": null,
   "metadata": {},
   "outputs": [],
   "source": [
    "# 106. Change columns\n",
    "print('Task 106:')\n",
    "\n",
    "users = pd.DataFrame({\n",
    "    \"name\": ['kevin', 'james', 'kumar', 'kevin', 'kevin', 'james'], \n",
    "    \"city\": ['Toronto', 'Montreal', 'Calgary', 'Montreal', 'Montreal', 'Ottawa']\n",
    "}) \n",
    "\n",
    "print('Before changing columns : ')\n",
    "print(users)\n",
    "\n",
    "# change columns\n",
    "users_new = users.rename({'name': 'first_name', 'city': 'current_city'}, axis = 1)\n",
    "\n",
    "print('\\nAfter changing columns : ')\n",
    "print(users_new)"
   ]
  },
  {
   "cell_type": "markdown",
   "metadata": {},
   "source": [
    "<div style=\"\">\n",
    "    <div style=\"float: left; width: 80%;\">\n",
    "        <a id=\"107\"></a>\n",
    "        <font><b>Task 107:</b></font>\n",
    "        <br><br>\n",
    "        Match with isin function\n",
    "    </div>\n",
    "    <div style=\"float: right;\">\n",
    "        <a href=\"#top\" class=\"btn btn-primary btn-sm\" role=\"button\" aria-pressed=\"true\" style=\"color:white\" data-toggle=\"popover\" title=\"go to Top\">Go to Top</a>\n",
    "    </div>\n",
    "    <br style=\"clear: left;\" />\n",
    "</div>"
   ]
  },
  {
   "cell_type": "code",
   "execution_count": null,
   "metadata": {},
   "outputs": [],
   "source": [
    "# 107. Match with isin function\n",
    "\n",
    "print('Task 107:')\n",
    "\n",
    "users = pd.DataFrame({\n",
    "    \"name\": ['kevin', 'james', 'kumar', 'kevin', 'kevin', 'james'], \n",
    "    \"city\": ['Toronto', 'Montreal', 'Calgary', 'Montreal', 'Montreal', 'Ottawa']\n",
    "}) \n",
    "\n",
    "print('Original Dataframe:')\n",
    "print(users)\n",
    "\n",
    "print('\\nFinding `Montreal` in by using isin function :')\n",
    "\n",
    "users.isin(['Montreal']).any()"
   ]
  },
  {
   "cell_type": "markdown",
   "metadata": {},
   "source": [
    "<div style=\"\">\n",
    "    <div style=\"float: left; width: 80%;\">\n",
    "        <a id=\"108\"></a>\n",
    "        <font><b>Task 108:</b></font>\n",
    "        <br><br>\n",
    "        Finding specific items by using `isin` function\n",
    "    </div>\n",
    "    <div style=\"float: right;\">\n",
    "        <a href=\"#top\" class=\"btn btn-primary btn-sm\" role=\"button\" aria-pressed=\"true\" style=\"color:white\" data-toggle=\"popover\" title=\"go to Top\">Go to Top</a>\n",
    "    </div>\n",
    "    <br style=\"clear: left;\" />\n",
    "</div>"
   ]
  },
  {
   "cell_type": "code",
   "execution_count": null,
   "metadata": {},
   "outputs": [],
   "source": [
    "# 108. Finding specific items by using `isin` function\n",
    "\n",
    "print('Task 108:')\n",
    "\n",
    "users = pd.DataFrame({\n",
    "    \"name\": ['kevin', 'james', 'kumar', 'kevin', 'kevin', 'james'], \n",
    "    \"city\": ['Toronto', 'Montreal', 'Calgary', 'Montreal', 'Montreal', 'Ottawa']\n",
    "}) \n",
    "\n",
    "print('Original Dataframe: ')\n",
    "print(users)\n",
    "\n",
    "print('\\nFinding `Montreal` in using isin and stack them: ')\n",
    "print(users[users.isin(['Montreal'])].stack())"
   ]
  },
  {
   "cell_type": "markdown",
   "metadata": {},
   "source": [
    "<div style=\"\">\n",
    "    <div style=\"float: left; width: 80%;\">\n",
    "        <a id=\"109\"></a>\n",
    "        <font><b>Task 109:</b></font>\n",
    "        <br><br>\n",
    "        Exclude specific matching\n",
    "    </div>\n",
    "    <div style=\"float: right;\">\n",
    "        <a href=\"#top\" class=\"btn btn-primary btn-sm\" role=\"button\" aria-pressed=\"true\" style=\"color:white\" data-toggle=\"popover\" title=\"go to Top\">Go to Top</a>\n",
    "    </div>\n",
    "    <br style=\"clear: left;\" />\n",
    "</div>"
   ]
  },
  {
   "cell_type": "code",
   "execution_count": null,
   "metadata": {},
   "outputs": [],
   "source": [
    "# 109. Exclude specific matching\n",
    "\n",
    "print('Task 109:')\n",
    "\n",
    "users = pd.DataFrame({\n",
    "    \"name\": ['kevin', 'james', 'kumar', 'kevin', 'kevin', 'james'], \n",
    "    \"city\": ['Toronto', 'Montreal', 'Calgary', 'Montreal', 'Montreal', 'Ottawa']\n",
    "}) \n",
    "\n",
    "print('Original Dataframe: ')\n",
    "print(users)\n",
    "\n",
    "print('\\nExcluding `Montreal` in using isin and stack them: ')\n",
    "print(users[~users.isin(['Montreal'])].stack())"
   ]
  },
  {
   "cell_type": "markdown",
   "metadata": {},
   "source": [
    "<div style=\"\">\n",
    "    <div style=\"float: left; width: 80%;\">\n",
    "        <a id=\"110\"></a>\n",
    "        <font><b>Task 110:</b></font>\n",
    "        <br><br>\n",
    "        Apply a custom function on multiple columns\n",
    "    </div>\n",
    "    <div style=\"float: right;\">\n",
    "        <a href=\"#top\" class=\"btn btn-primary btn-sm\" role=\"button\" aria-pressed=\"true\" style=\"color:white\" data-toggle=\"popover\" title=\"go to Top\">Go to Top</a>\n",
    "    </div>\n",
    "    <br style=\"clear: left;\" />\n",
    "</div>"
   ]
  },
  {
   "cell_type": "code",
   "execution_count": null,
   "metadata": {},
   "outputs": [],
   "source": [
    "# 110. Apply a custom function on multiple columns\n",
    "\n",
    "print('Task 110:')\n",
    "\n",
    "amounts = pd.DataFrame({\n",
    "    \"CIBC\": [200, 4200, 300, 300], \n",
    "    \"TD\": [1200, 800, 4000, 2000]\n",
    "})\n",
    "\n",
    "print('Original Dataframe: ')\n",
    "print(amounts)\n",
    "\n",
    "def get_total_amount(x):\n",
    "    \n",
    "    # if the amount is less than 500, skip it\n",
    "    total_amount = 0\n",
    "    \n",
    "    if(x['CIBC'] > 499):\n",
    "        total_amount += x['CIBC']\n",
    "        \n",
    "    if(x['TD'] > 499):\n",
    "        total_amount += x['TD']\n",
    "    \n",
    "    return total_amount\n",
    "\n",
    "amounts['Total'] = amounts.apply(get_total_amount, axis = 1)\n",
    "\n",
    "print('Dataframe after applying the custom function: ')\n",
    "print(amounts)"
   ]
  },
  {
   "cell_type": "markdown",
   "metadata": {},
   "source": [
    "<div style=\"\">\n",
    "    <div style=\"float: left; width: 80%;\">\n",
    "        <a id=\"111\"></a>\n",
    "        <font><b>Task 111:</b></font>\n",
    "        <br><br>\n",
    "        iterrows as tuples\n",
    "    </div>\n",
    "    <div style=\"float: right;\">\n",
    "        <a href=\"#top\" class=\"btn btn-primary btn-sm\" role=\"button\" aria-pressed=\"true\" style=\"color:white\" data-toggle=\"popover\" title=\"go to Top\">Go to Top</a>\n",
    "    </div>\n",
    "    <br style=\"clear: left;\" />\n",
    "</div>"
   ]
  },
  {
   "cell_type": "code",
   "execution_count": null,
   "metadata": {},
   "outputs": [],
   "source": [
    "# 111. iterrows as tuples\n",
    "\n",
    "print('Task 111:')\n",
    "\n",
    "users = pd.DataFrame({\n",
    "    \"id\": [1, 1, 2, 2, 3, 3], \n",
    "    \"city\": ['Toronto', 'Montreal', 'Calgary', 'Montreal', 'Montreal', 'Ottawa'],\n",
    "    \"count\" : [7, 8, 9, 2, 7, 8] \n",
    "    \n",
    "}) \n",
    "\n",
    "print(users)  \n",
    "\n",
    "print('\\nIterate rows as tuples:')\n",
    "for row in users.itertuples():\n",
    "    print(row)"
   ]
  },
  {
   "cell_type": "markdown",
   "metadata": {},
   "source": [
    "<div style=\"\">\n",
    "    <div style=\"float: left; width: 80%;\">\n",
    "        <a id=\"112\"></a>\n",
    "        <font><b>Task 112:</b></font>\n",
    "        <br><br>\n",
    "        Dataframe with NaN\n",
    "    </div>\n",
    "    <div style=\"float: right;\">\n",
    "        <a href=\"#top\" class=\"btn btn-primary btn-sm\" role=\"button\" aria-pressed=\"true\" style=\"color:white\" data-toggle=\"popover\" title=\"go to Top\">Go to Top</a>\n",
    "    </div>\n",
    "    <br style=\"clear: left;\" />\n",
    "</div>"
   ]
  },
  {
   "cell_type": "code",
   "execution_count": null,
   "metadata": {},
   "outputs": [],
   "source": [
    "# 112. Dataframe with NaN\n",
    "\n",
    "print('Task 112:')\n",
    "\n",
    "df = pd.DataFrame(np.nan, index = [0, 1, 2], columns = ['A', 'B', 'C'])\n",
    "\n",
    "print(df)"
   ]
  },
  {
   "cell_type": "markdown",
   "metadata": {},
   "source": [
    "<div style=\"\">\n",
    "    <div style=\"float: left; width: 80%;\">\n",
    "        <a id=\"113\"></a>\n",
    "        <font><b>Task 113:</b></font>\n",
    "        <br><br>\n",
    "        Simple Dataframe with NaN\n",
    "    </div>\n",
    "    <div style=\"float: right;\">\n",
    "        <a href=\"#top\" class=\"btn btn-primary btn-sm\" role=\"button\" aria-pressed=\"true\" style=\"color:white\" data-toggle=\"popover\" title=\"go to Top\">Go to Top</a>\n",
    "    </div>\n",
    "    <br style=\"clear: left;\" />\n",
    "</div>"
   ]
  },
  {
   "cell_type": "code",
   "execution_count": null,
   "metadata": {},
   "outputs": [],
   "source": [
    "# 113. Simple Dataframe with NaN\n",
    "\n",
    "print('Task 113:')\n",
    "\n",
    "df = pd.DataFrame([np.nan] * 5)\n",
    "\n",
    "print(df)"
   ]
  },
  {
   "cell_type": "markdown",
   "metadata": {},
   "source": [
    "<div style=\"\">\n",
    "    <div style=\"float: left; width: 80%;\">\n",
    "        <a id=\"114\"></a>\n",
    "        <font><b>Task 114:</b></font>\n",
    "        <br><br>\n",
    "        Pandas and Date with Range\n",
    "    </div>\n",
    "    <div style=\"float: right;\">\n",
    "        <a href=\"#top\" class=\"btn btn-primary btn-sm\" role=\"button\" aria-pressed=\"true\" style=\"color:white\" data-toggle=\"popover\" title=\"go to Top\">Go to Top</a>\n",
    "    </div>\n",
    "    <br style=\"clear: left;\" />\n",
    "</div>"
   ]
  },
  {
   "cell_type": "code",
   "execution_count": null,
   "metadata": {},
   "outputs": [],
   "source": [
    "# 114. Pandas and Date with Range\n",
    "\n",
    "print('Task 114:')\n",
    "\n",
    "import datetime as dt\n",
    "\n",
    "pd.np.random.seed(0)\n",
    "\n",
    "df = pd.DataFrame({\n",
    "     \"date\" : [dt.date(2012, x, 1) for x in range(1, 11)]\n",
    "})\n",
    "\n",
    "print(df)"
   ]
  },
  {
   "cell_type": "markdown",
   "metadata": {},
   "source": [
    "<div style=\"\">\n",
    "    <div style=\"float: left; width: 80%;\">\n",
    "        <a id=\"115\"></a>\n",
    "        <font><b>Task 115:</b></font>\n",
    "        <br><br>\n",
    "        Pandas and Numpy Repeat\n",
    "    </div>\n",
    "    <div style=\"float: right;\">\n",
    "        <a href=\"#top\" class=\"btn btn-primary btn-sm\" role=\"button\" aria-pressed=\"true\" style=\"color:white\" data-toggle=\"popover\" title=\"go to Top\">Go to Top</a>\n",
    "    </div>\n",
    "    <br style=\"clear: left;\" />\n",
    "</div>"
   ]
  },
  {
   "cell_type": "code",
   "execution_count": null,
   "metadata": {},
   "outputs": [],
   "source": [
    "# 115. Pandas and Numpy Repeat\n",
    "\n",
    "print('Task 115:')\n",
    "\n",
    "df = pd.DataFrame({\n",
    "     \"entry\" : np.repeat(3, 7) # Repeat the number for 7 times\n",
    "})\n",
    "\n",
    "print(df)"
   ]
  },
  {
   "cell_type": "markdown",
   "metadata": {},
   "source": [
    "<div style=\"\">\n",
    "    <div style=\"float: left; width: 80%;\">\n",
    "        <a id=\"116\"></a>\n",
    "        <font><b>Task 116:</b></font>\n",
    "        <br><br>\n",
    "        read_sql in Pandas\n",
    "    </div>\n",
    "    <div style=\"float: right;\">\n",
    "        <a href=\"#top\" class=\"btn btn-primary btn-sm\" role=\"button\" aria-pressed=\"true\" style=\"color:white\" data-toggle=\"popover\" title=\"go to Top\">Go to Top</a>\n",
    "    </div>\n",
    "    <br style=\"clear: left;\" />\n",
    "</div>"
   ]
  },
  {
   "cell_type": "code",
   "execution_count": null,
   "metadata": {},
   "outputs": [],
   "source": [
    "# 116. read_sql in Pandas\n",
    "\n",
    "print('Task 116:')\n",
    "\n",
    "import sqlite3 as sql\n",
    "\n",
    "conn = sql.connect('/kaggle/input/rj-sample-datasets/sample.db')\n",
    "\n",
    "demo_df = pd.read_sql('SELECT ID, NAME FROM DEMO', conn)\n",
    "\n",
    "print(demo_df)\n",
    "\n",
    "# Note: online sqlite https://sqliteonline.com/"
   ]
  },
  {
   "cell_type": "markdown",
   "metadata": {},
   "source": [
    "<div style=\"\">\n",
    "    <div style=\"float: left; width: 80%;\">\n",
    "        <a id=\"117\"></a>\n",
    "        <font><b>Task 117:</b></font>\n",
    "        <br><br>\n",
    "        Get a single value by iat\n",
    "    </div>\n",
    "    <div style=\"float: right;\">\n",
    "        <a href=\"#top\" class=\"btn btn-primary btn-sm\" role=\"button\" aria-pressed=\"true\" style=\"color:white\" data-toggle=\"popover\" title=\"go to Top\">Go to Top</a>\n",
    "    </div>\n",
    "    <br style=\"clear: left;\" />\n",
    "</div>"
   ]
  },
  {
   "cell_type": "code",
   "execution_count": null,
   "metadata": {},
   "outputs": [],
   "source": [
    "# 117. Get a single value by iat\n",
    "\n",
    "print('Task 117:')\n",
    "\n",
    "df = pd.DataFrame(np.random.randint(0, 100, size = (7, 2)), columns = list('ab'))\n",
    "\n",
    "print('\\nOriginal Dataframe:')\n",
    "print(df)\n",
    "\n",
    "val = df.iat[3, 1]\n",
    "\n",
    "print('\\nGetting value at 3rd row and first col:')\n",
    "print(val)"
   ]
  },
  {
   "cell_type": "markdown",
   "metadata": {},
   "source": [
    "<div style=\"\">\n",
    "    <div style=\"float: left; width: 80%;\">\n",
    "        <a id=\"118\"></a>\n",
    "        <font><b>Task 118:</b></font>\n",
    "        <br><br>\n",
    "        Get last n elements\n",
    "    </div>\n",
    "    <div style=\"float: right;\">\n",
    "        <a href=\"#top\" class=\"btn btn-primary btn-sm\" role=\"button\" aria-pressed=\"true\" style=\"color:white\" data-toggle=\"popover\" title=\"go to Top\">Go to Top</a>\n",
    "    </div>\n",
    "    <br style=\"clear: left;\" />\n",
    "</div>"
   ]
  },
  {
   "cell_type": "code",
   "execution_count": null,
   "metadata": {},
   "outputs": [],
   "source": [
    "# 118. Get last n elements\n",
    "\n",
    "print('Task 118:')\n",
    "\n",
    "df = pd.DataFrame(np.random.randint(0, 100, size = (7, 2)), columns = list('ab'))\n",
    "\n",
    "print('\\nOriginal Dataframe:')\n",
    "print(df)\n",
    "\n",
    "tail_df = df.tail(3)\n",
    "\n",
    "print('\\nLast 3 rows:')\n",
    "print(tail_df)"
   ]
  },
  {
   "cell_type": "markdown",
   "metadata": {},
   "source": [
    "<div style=\"\">\n",
    "    <div style=\"float: left; width: 80%;\">\n",
    "        <a id=\"119\"></a>\n",
    "        <font><b>Task 119:</b></font>\n",
    "        <br><br>\n",
    "        Add data one by one by using loc function\n",
    "    </div>\n",
    "    <div style=\"float: right;\">\n",
    "        <a href=\"#top\" class=\"btn btn-primary btn-sm\" role=\"button\" aria-pressed=\"true\" style=\"color:white\" data-toggle=\"popover\" title=\"go to Top\">Go to Top</a>\n",
    "    </div>\n",
    "    <br style=\"clear: left;\" />\n",
    "</div>"
   ]
  },
  {
   "cell_type": "code",
   "execution_count": null,
   "metadata": {},
   "outputs": [],
   "source": [
    "# 119. Add data one by one by using loc function\n",
    "\n",
    "df = pd.DataFrame(columns = ['rows', 'cols', 'time taken'])\n",
    "\n",
    "df.loc['Dataset1 - Dask'] = (1000, 20, 10)\n",
    "df.loc['Dataset1 - Pandas'] = (1000, 20, 15)\n",
    "\n",
    "df"
   ]
  },
  {
   "cell_type": "code",
   "execution_count": null,
   "metadata": {},
   "outputs": [],
   "source": [
    "!pip install country_converter"
   ]
  },
  {
   "cell_type": "markdown",
   "metadata": {},
   "source": [
    "<div style=\"\">\n",
    "    <div style=\"float: left; width: 80%;\">\n",
    "        <a id=\"120\"></a>\n",
    "        <font><b>Task 120:</b></font>\n",
    "        <br><br>\n",
    "        Convert country in Dataframe\n",
    "    </div>\n",
    "    <div style=\"float: right;\">\n",
    "        <a href=\"#top\" class=\"btn btn-primary btn-sm\" role=\"button\" aria-pressed=\"true\" style=\"color:white\" data-toggle=\"popover\" title=\"go to Top\">Go to Top</a>\n",
    "    </div>\n",
    "    <br style=\"clear: left;\" />\n",
    "</div>"
   ]
  },
  {
   "cell_type": "code",
   "execution_count": null,
   "metadata": {},
   "outputs": [],
   "source": [
    "# 120. Convert country in Dataframe \n",
    "\n",
    "import country_converter as coco\n",
    "import pandas as pd\n",
    "\n",
    "df = pd.DataFrame({'code': ['IN', 'USA', 'BR', 'CAN']})\n",
    "\n",
    "print('Before:')\n",
    "print(df)\n",
    "\n",
    "df['country'] = df.code.apply(lambda x: coco.convert(names = x, to = 'name_short', not_found = None))\n",
    "\n",
    "print('\\nAfter:')\n",
    "print(df)"
   ]
  },
  {
   "cell_type": "markdown",
   "metadata": {},
   "source": [
    "<div style=\"\">\n",
    "    <div style=\"float: left; width: 80%;\">\n",
    "        <a id=\"121\"></a>\n",
    "        <font><b>Task 121:</b></font>\n",
    "        <br><br>\n",
    "        Group by multiple columns\n",
    "    </div>\n",
    "    <div style=\"float: right;\">\n",
    "        <a href=\"#top\" class=\"btn btn-primary btn-sm\" role=\"button\" aria-pressed=\"true\" style=\"color:white\" data-toggle=\"popover\" title=\"go to Top\">Go to Top</a>\n",
    "    </div>\n",
    "    <br style=\"clear: left;\" />\n",
    "</div>"
   ]
  },
  {
   "cell_type": "code",
   "execution_count": null,
   "metadata": {},
   "outputs": [],
   "source": [
    "# 121. Group by multiple columns\n",
    "\n",
    "df = pd.read_csv('../input/datasets-for-pandas/uk-500.csv')\n",
    "\n",
    "df.groupby(['county', 'first_name']).sum().sample(5)"
   ]
  },
  {
   "cell_type": "markdown",
   "metadata": {},
   "source": [
    "<div style=\"\">\n",
    "    <div style=\"float: left; width: 80%;\">\n",
    "        <a id=\"122\"></a>\n",
    "        <font><b>Task 122:</b></font>\n",
    "        <br><br>\n",
    "        Compare two dataframes\n",
    "    </div>\n",
    "    <div style=\"float: right;\">\n",
    "        <a href=\"#top\" class=\"btn btn-primary btn-sm\" role=\"button\" aria-pressed=\"true\" style=\"color:white\" data-toggle=\"popover\" title=\"go to Top\">Go to Top</a>\n",
    "    </div>\n",
    "    <br style=\"clear: left;\" />\n",
    "</div>"
   ]
  },
  {
   "cell_type": "code",
   "execution_count": null,
   "metadata": {},
   "outputs": [],
   "source": [
    "# 122. Compare two dataframes\n",
    "\n",
    "df1 = pd.DataFrame({\n",
    "    'a' : [1,2,3], \n",
    "    'b' : [9,8,7]\n",
    "})\n",
    "\n",
    "df2 = pd.DataFrame({\n",
    "    'a' : [1,1,3], \n",
    "    'b' : [12,8,12]\n",
    "})\n",
    "\n",
    "print(df1.compare(df2))"
   ]
  },
  {
   "cell_type": "markdown",
   "metadata": {},
   "source": [
    "<div style=\"\">\n",
    "    <div style=\"float: left; width: 80%;\">\n",
    "        <a id=\"123\"></a>\n",
    "        <font><b>Task 123:</b></font>\n",
    "        <br><br>\n",
    "        Difference between datetime by only seconds or dates\n",
    "    </div>\n",
    "    <div style=\"float: right;\">\n",
    "        <a href=\"#top\" class=\"btn btn-primary btn-sm\" role=\"button\" aria-pressed=\"true\" style=\"color:white\" data-toggle=\"popover\" title=\"go to Top\">Go to Top</a>\n",
    "    </div>\n",
    "    <br style=\"clear: left;\" />\n",
    "</div>"
   ]
  },
  {
   "cell_type": "code",
   "execution_count": null,
   "metadata": {},
   "outputs": [],
   "source": [
    "# 123. Difference between datetime by only seconds or dates\n",
    "\n",
    "df1 = pd.to_datetime('2020-10-14 14:52:21')\n",
    "df2 = pd.to_datetime('2020-10-18 15:58:10')\n",
    "\n",
    "delta = (df2 - df1)\n",
    "\n",
    "print('days   : ', delta.days)\n",
    "print('seconds: ', delta.seconds)"
   ]
  },
  {
   "cell_type": "markdown",
   "metadata": {},
   "source": [
    "<div style=\"\">\n",
    "    <div style=\"float: left; width: 80%;\">\n",
    "        <a id=\"124\"></a>\n",
    "        <font><b>Task 124:</b></font>\n",
    "        <br><br>\n",
    "        Get dates and delta days in Dataframe\n",
    "    </div>\n",
    "    <div style=\"float: right;\">\n",
    "        <a href=\"#top\" class=\"btn btn-primary btn-sm\" role=\"button\" aria-pressed=\"true\" style=\"color:white\" data-toggle=\"popover\" title=\"go to Top\">Go to Top</a>\n",
    "    </div>\n",
    "    <br style=\"clear: left;\" />\n",
    "</div>"
   ]
  },
  {
   "cell_type": "code",
   "execution_count": null,
   "metadata": {},
   "outputs": [],
   "source": [
    "# 124. Get dates and delta days in Dataframe\n",
    "\n",
    "entries_count = 6\n",
    "\n",
    "date_series = pd.Series(pd.date_range('2020-09-01', periods = entries_count, freq = 'D'))\n",
    "\n",
    "df = pd.DataFrame({'entry_date': date_series})\n",
    "\n",
    "print(df)"
   ]
  },
  {
   "cell_type": "markdown",
   "metadata": {},
   "source": [
    "<div style=\"\">\n",
    "    <div style=\"float: left; width: 80%;\">\n",
    "        <a id=\"125\"></a>\n",
    "        <font><b>Task 125:</b></font>\n",
    "        <br><br>\n",
    "        Get dates and delta days in Dataframe\n",
    "    </div>\n",
    "    <div style=\"float: right;\">\n",
    "        <a href=\"#top\" class=\"btn btn-primary btn-sm\" role=\"button\" aria-pressed=\"true\" style=\"color:white\" data-toggle=\"popover\" title=\"go to Top\">Go to Top</a>\n",
    "    </div>\n",
    "    <br style=\"clear: left;\" />\n",
    "</div>"
   ]
  },
  {
   "cell_type": "code",
   "execution_count": null,
   "metadata": {},
   "outputs": [],
   "source": [
    "# 125. Get dates and delta days in Dataframe\n",
    "\n",
    "entries_count = 5\n",
    "\n",
    "date_series = pd.Series(pd.date_range('2020-09-01', periods = entries_count, freq = 'D'))\n",
    "\n",
    "time_delta_series = pd.Series([pd.Timedelta(days = i) for i in range(entries_count)])\n",
    "\n",
    "df = pd.DataFrame({'entry_date': date_series, 'delta_days': time_delta_series})\n",
    "\n",
    "print(df)"
   ]
  },
  {
   "cell_type": "markdown",
   "metadata": {},
   "source": [
    "<div style=\"\">\n",
    "    <div style=\"float: left; width: 80%;\">\n",
    "        <a id=\"126\"></a>\n",
    "        <font><b>Task 126:</b></font>\n",
    "        <br><br>\n",
    "        Date addition with time delta\n",
    "    </div>\n",
    "    <div style=\"float: right;\">\n",
    "        <a href=\"#top\" class=\"btn btn-primary btn-sm\" role=\"button\" aria-pressed=\"true\" style=\"color:white\" data-toggle=\"popover\" title=\"go to Top\">Go to Top</a>\n",
    "    </div>\n",
    "    <br style=\"clear: left;\" />\n",
    "</div>"
   ]
  },
  {
   "cell_type": "code",
   "execution_count": null,
   "metadata": {},
   "outputs": [],
   "source": [
    "# 126. Date addition with time delta\n",
    "\n",
    "entries_count = 3\n",
    "\n",
    "date_series = pd.Series(pd.date_range('2020-09-01', periods = entries_count, freq = 'D'))\n",
    "\n",
    "time_delta_series = pd.Series([pd.Timedelta(days = i) for i in range(entries_count)])\n",
    "\n",
    "df = pd.DataFrame({'entry_date': date_series, 'delta_days': time_delta_series})\n",
    "\n",
    "print('\\nBefore:')\n",
    "print(df)\n",
    "\n",
    "\n",
    "df['new_entry_date'] = df['entry_date'] + df['delta_days']\n",
    "print('\\nAfter:')\n",
    "print(df)\n",
    "\n",
    "print('\\nData types:')\n",
    "print(df.dtypes)"
   ]
  },
  {
   "cell_type": "markdown",
   "metadata": {},
   "source": [
    "<div style=\"\">\n",
    "    <div style=\"float: left; width: 80%;\">\n",
    "        <a id=\"127\"></a>\n",
    "        <font><b>Task 127:</b></font>\n",
    "        <br><br>\n",
    "        Converting Pandas innner list to numpy array without the word `list`\n",
    "    </div>\n",
    "    <div style=\"float: right;\">\n",
    "        <a href=\"#top\" class=\"btn btn-primary btn-sm\" role=\"button\" aria-pressed=\"true\" style=\"color:white\" data-toggle=\"popover\" title=\"go to Top\">Go to Top</a>\n",
    "    </div>\n",
    "    <br style=\"clear: left;\" />\n",
    "</div>"
   ]
  },
  {
   "cell_type": "code",
   "execution_count": null,
   "metadata": {},
   "outputs": [],
   "source": [
    "# 127. Converting Pandas innner list to numpy array without the word `list`\n",
    "\n",
    "s = pd.Series([[1, 2, 3], np.array([1, 2, 3])])\n",
    "    \n",
    "print('Original Series:')\n",
    "print(s)  \n",
    "\n",
    "arr = np.array(s)\n",
    "print('\\nSeries to Array:')\n",
    "print(arr)\n",
    "\n",
    "print('\\nAfter converting inner elements to list:')\n",
    "x = np.array(s[:].tolist())\n",
    "print(x)\n",
    "\n",
    "# Source: https://stackoverflow.com/questions/64089218/how-to-convert-data-frame-pandas-into-list-in-numpy-without-word-list-in-array"
   ]
  },
  {
   "cell_type": "markdown",
   "metadata": {},
   "source": [
    "<div style=\"\">\n",
    "    <div style=\"float: left; width: 80%;\">\n",
    "        <a id=\"128\"></a>\n",
    "        <font><b>Task 128:</b></font>\n",
    "        <br><br>\n",
    "        Append series to existing Dataframe\n",
    "    </div>\n",
    "    <div style=\"float: right;\">\n",
    "        <a href=\"#top\" class=\"btn btn-primary btn-sm\" role=\"button\" aria-pressed=\"true\" style=\"color:white\" data-toggle=\"popover\" title=\"go to Top\">Go to Top</a>\n",
    "    </div>\n",
    "    <br style=\"clear: left;\" />\n",
    "</div>"
   ]
  },
  {
   "cell_type": "code",
   "execution_count": null,
   "metadata": {},
   "outputs": [],
   "source": [
    "# 128. Append series to existing Dataframe\n",
    "\n",
    "df = pd.DataFrame([1, 3, 4, 5], columns=[\"id\"])\n",
    "df.set_index(\"id\")\n",
    "print('Before:')\n",
    "print(df)\n",
    "\n",
    "marks = pd.Series([79, 20, 45, 99])\n",
    "df[\"marks\"] = marks\n",
    "print('\\nAfter:')\n",
    "print(df)"
   ]
  },
  {
   "cell_type": "markdown",
   "metadata": {},
   "source": [
    "<div style=\"\">\n",
    "    <div style=\"float: left; width: 80%;\">\n",
    "        <a id=\"129\"></a>\n",
    "        <font><b>Task 129:</b></font>\n",
    "        <br><br>\n",
    "        Cumulative sum with group by with multiple values\n",
    "    </div>\n",
    "    <div style=\"float: right;\">\n",
    "        <a href=\"#top\" class=\"btn btn-primary btn-sm\" role=\"button\" aria-pressed=\"true\" style=\"color:white\" data-toggle=\"popover\" title=\"go to Top\">Go to Top</a>\n",
    "    </div>\n",
    "    <br style=\"clear: left;\" />\n",
    "</div>"
   ]
  },
  {
   "cell_type": "code",
   "execution_count": null,
   "metadata": {},
   "outputs": [],
   "source": [
    "# 129. Cumulative sum with group by with multiple values\n",
    "\n",
    "df = pd.DataFrame({\n",
    "    'City': ['Toronto', 'Toronto', 'Toronto', 'Montreal', 'Montreal', 'Montreal', 'New York', 'Toronto', 'New York', 'New York'], \n",
    "    'Year': [2020, 2020, 2018, 2018, 2018, 2012, 2012, 2012, 2016, 2018], \n",
    "    'Points': [1000, 2000, 3000, 3000, 2000, 1500, 1500, 500, 500, 300]\n",
    "})\n",
    "\n",
    "print('Before:')\n",
    "print(df)\n",
    "\n",
    "df.sort_values(['City', 'Year'], inplace=True)\n",
    "print('\\nAfter Sorting:')\n",
    "print(df)\n",
    "\n",
    "df['Points_cum'] = df.groupby(['City', 'Year'])['Points'].cumsum()\n",
    "print('\\nAfter Cumulative Sum:')\n",
    "print(df)"
   ]
  },
  {
   "cell_type": "markdown",
   "metadata": {},
   "source": [
    "<div style=\"\">\n",
    "    <div style=\"float: left; width: 80%;\">\n",
    "        <a id=\"130\"></a>\n",
    "        <font><b>Task 130:</b></font>\n",
    "        <br><br>\n",
    "        Clean URL in Pandas String (remove string after specific item)\n",
    "    </div>\n",
    "    <div style=\"float: right;\">\n",
    "        <a href=\"#top\" class=\"btn btn-primary btn-sm\" role=\"button\" aria-pressed=\"true\" style=\"color:white\" data-toggle=\"popover\" title=\"go to Top\">Go to Top</a>\n",
    "    </div>\n",
    "    <br style=\"clear: left;\" />\n",
    "</div>"
   ]
  },
  {
   "cell_type": "code",
   "execution_count": null,
   "metadata": {},
   "outputs": [],
   "source": [
    "# 130. Clean URL in Pandas String (remove string after specific item)\n",
    "\n",
    "df = pd.DataFrame({\n",
    "    'url': ['https://www.abc.com/page/2/unit234', 'https://www.abc.com/page/3/unit34', 'https://www.abc.com/page/4/unit89']\n",
    "})\n",
    "\n",
    "print('Original:')\n",
    "print(df)\n",
    "\n",
    "df['url'] = df['url'].str.replace('\\/unit.*', '/', regex=True)\n",
    "print('\\nAfer removing unit and future chars:')\n",
    "print(df)"
   ]
  },
  {
   "cell_type": "markdown",
   "metadata": {},
   "source": [
    "<div style=\"\">\n",
    "    <div style=\"float: left; width: 80%;\">\n",
    "        <a id=\"131\"></a>\n",
    "        <font><b>Task 131:</b></font>\n",
    "        <br><br>\n",
    "        Find any matching value\n",
    "    </div>\n",
    "    <div style=\"float: right;\">\n",
    "        <a href=\"#top\" class=\"btn btn-primary btn-sm\" role=\"button\" aria-pressed=\"true\" style=\"color:white\" data-toggle=\"popover\" title=\"go to Top\">Go to Top</a>\n",
    "    </div>\n",
    "    <br style=\"clear: left;\" />\n",
    "</div>"
   ]
  },
  {
   "cell_type": "code",
   "execution_count": null,
   "metadata": {},
   "outputs": [],
   "source": [
    "# 131. Find any matching value\n",
    "\n",
    "print('Task 131:')\n",
    "\n",
    "users = pd.DataFrame({\n",
    "    \"name\": ['kevin', 'james', 'kumar', 'kevin', 'kevin', 'james'], \n",
    "    \"city\": ['Toronto', 'Montreal', 'Calgary', 'Montreal', 'Montreal', 'Ottawa']\n",
    "}) \n",
    "\n",
    "print('Original Dataframe:')\n",
    "print(users)\n",
    "\n",
    "print('\\nFinding `Montreal` in any cell :')\n",
    "print(users[users.eq('Montreal').any(1)])"
   ]
  },
  {
   "cell_type": "code",
   "execution_count": null,
   "metadata": {},
   "outputs": [],
   "source": [
    "# 132. Add prefix on column lables\n",
    "\n",
    "import pandas as pd\n",
    "import numpy as np\n",
    "\n",
    "np.random.seed(34)\n",
    "\n",
    "df = pd.DataFrame(np.random.rand(30, 5)).add_prefix(\"feature_\")\n",
    "df[\"year\"] = np.repeat([\"2012\", \"2013\", \"2014\"], 10)\n",
    "\n",
    "print(df.head())\n",
    "print(len(df))"
   ]
  },
  {
   "cell_type": "code",
   "execution_count": null,
   "metadata": {},
   "outputs": [],
   "source": [
    "# 133. Set values on where condition\n",
    "\n",
    "df = pd.DataFrame({'city': ['Toronto', 'Toronto', 'Montreal', 'Montreal', 'Montreal'], 'Year': [2017, 2018, 2019, 2020, 2021]})\n",
    "\n",
    "print('Original;')\n",
    "print(df)\n",
    "\n",
    "df['airport'] = None\n",
    "df['airport'] = np.where(df['city'] == 'Toronto', {'airport_count': 2}, df['airport'])\n",
    "\n",
    "print('\\nAfter:')\n",
    "print(df)"
   ]
  },
  {
   "cell_type": "code",
   "execution_count": null,
   "metadata": {},
   "outputs": [],
   "source": [
    "# 134. Flatten Dictionary to Dataframe\n",
    "\n",
    "d = {\n",
    "    \"country\" : {\n",
    "        \"canada\": {\n",
    "            \"code\": 'CA',\n",
    "            \"city\": {\n",
    "                \"name\": \"Toronto\",\n",
    "                \"population\": \"6M\"\n",
    "            }\n",
    "        }\n",
    "    }\n",
    "}\n",
    "\n",
    "df = pd.json_normalize(d)\n",
    "\n",
    "print(df)"
   ]
  },
  {
   "cell_type": "code",
   "execution_count": null,
   "metadata": {},
   "outputs": [],
   "source": [
    "# 135. Using transform\n",
    "\n",
    "df = pd.DataFrame({\n",
    "        'ID': [1, 2, 2, 3, 3, 4, 4],\n",
    "        'Value': [10, 5, 5, 10, 4, 11, 12]\n",
    "    })\n",
    "\n",
    "df['Count'] = df.groupby('ID')['Value'].transform('count')\n",
    "print(df)"
   ]
  },
  {
   "cell_type": "code",
   "execution_count": null,
   "metadata": {},
   "outputs": [],
   "source": [
    "# 136. Summing all elements\n",
    "\n",
    "df = pd.DataFrame({\n",
    "        'ID': [1, 2, 2, 3, 3, 4, 4],\n",
    "        'Value': [10, 5, 5, 10, 4, 11, 12]\n",
    "    })\n",
    "\n",
    "sum1 = df.stack().sum()\n",
    "print(sum1)\n",
    "\n",
    "sum2 = df.to_numpy().sum()\n",
    "print(sum2)"
   ]
  },
  {
   "cell_type": "code",
   "execution_count": null,
   "metadata": {},
   "outputs": [],
   "source": [
    "# 137. Combine multiple CSV files by using Dask\n",
    "\n",
    "import dask.dataframe as dd\n",
    "\n",
    "df = dd.read_csv('/kaggle/input/rj-sample-datasets/transaction-*.csv')\n",
    "\n",
    "df = df.compute() \n",
    "\n",
    "df.columns = ['Date', 'Description', 'Spent']\n",
    "\n",
    "df.head(2)"
   ]
  },
  {
   "cell_type": "code",
   "execution_count": null,
   "metadata": {},
   "outputs": [],
   "source": [
    "# 138. Separate Elements into Bins\n",
    "\n",
    "df = pd.DataFrame({'number': np.random.randint(1, 100, 5)}) \n",
    "print('Original:')\n",
    "print(df)\n",
    "\n",
    "df['bins'] = pd.cut(x = df['number'], bins = [1, 20, 40, 60, 80, 100]) \n",
    "print('\\nAfter pandas cut:')\n",
    "print(df)"
   ]
  },
  {
   "cell_type": "code",
   "execution_count": null,
   "metadata": {},
   "outputs": [],
   "source": [
    "# 139. Encode the object as enumerated or categorical\n",
    "\n",
    "codes, uniques = pd.factorize(['TO', 'NY', 'CA', 'MNT', 'CA', 'NY'], sort = True)\n",
    "\n",
    "print(codes)\n",
    "print(uniques)"
   ]
  },
  {
   "cell_type": "code",
   "execution_count": null,
   "metadata": {},
   "outputs": [],
   "source": [
    "# 140. \n",
    "\n",
    "\n",
    "df = pd.read_csv(\"/kaggle/input/rj-sample-datasets/sample-transaction.csv\", names = ['date', 'description', 'spent'])\n",
    "\n",
    "# df\n",
    "\n",
    "bins = np.linspace(min(df['spent']), max(df['spent']), 4)\n",
    "# print(bins)\n",
    "groupNames = [\"low\", \"med\", \"high\"]\n",
    "\n",
    "df['spentGroup'] = pd.cut(df['spent'], bins, labels = groupNames, include_lowest = True)\n",
    "print(df)"
   ]
  },
  {
   "cell_type": "code",
   "execution_count": null,
   "metadata": {},
   "outputs": [],
   "source": [
    "# 141. Simple result table with Pandas\n",
    "\n",
    "results = pd.DataFrame(columns = ['Accuracy'])\n",
    "\n",
    "results.loc['Random Classifier'] = 98.893\n",
    "results.loc['KNN'] = 99.343\n",
    "\n",
    "results"
   ]
  },
  {
   "cell_type": "code",
   "execution_count": null,
   "metadata": {},
   "outputs": [],
   "source": [
    "# 142. isin with multiple conditions\n",
    "\n",
    "df = pd.DataFrame([\n",
    "        ['LEhOc7XSE0','2020', '03', 'car'],\n",
    "        ['LEhOc7XSE0','2020', '03', 'truck'],\n",
    "        ['LEhOc7XSE0','2020', '03', 'bike'],\n",
    "        ['LEhOc7XSE0','2020', '03', 'insurance'],\n",
    "        ['LEhOc7XSE0','2020', '03', 'inspection'],\n",
    "        ['iXC5AfJMox','2020', '04', 'car'],\n",
    "        ['iXC5AfJMox','2020', '04', 'truck'],\n",
    "        ['iXC5AfJMox','2020', '04', 'inspection'],\n",
    "        ['XpLLAySojz','2020', '01', 'bike'],\n",
    "    ], columns=['order_id','year', 'month', 'item_type'])\n",
    "print('Original:')\n",
    "print(df)\n",
    "\n",
    "df['bike_or_car'] = df['item_type'].isin({'bike', 'car'})\n",
    "print('\\nAfter:')\n",
    "print(df)\n",
    "\n",
    "# source: https://stackoverflow.com/questions/64248872/python-pandas-count-columns-with-multiple-conditions-and-groupby"
   ]
  },
  {
   "cell_type": "code",
   "execution_count": null,
   "metadata": {},
   "outputs": [],
   "source": [
    "# 143. String to Pandas with python engine and separator\n",
    "\n",
    "from io import StringIO\n",
    "import pandas as pd\n",
    "\n",
    "data = '''            student       science   maths  history\n",
    "0     David       90          100  89\n",
    "20    Kevin       98          97  90\n",
    "'''\n",
    "df = pd.read_csv(StringIO(data), sep='\\s\\s+', engine='python')\n",
    "\n",
    "print(df)\n",
    "\n",
    "# source: https://stackoverflow.com/questions/64268344/pandas-consolidate-two-rows-in-one"
   ]
  },
  {
   "cell_type": "code",
   "execution_count": null,
   "metadata": {},
   "outputs": [],
   "source": [
    "# 144.\n",
    "\n",
    "def get_unique_items(df):\n",
    "    \n",
    "    # how many cols are there\n",
    "    cols = df.columns\n",
    "    cols_count = len(df.columns)\n",
    "    # print(cols_count)\n",
    "\n",
    "    unique_max_count = 0\n",
    "    for _col in cols:\n",
    "#         print(_col)\n",
    "        current_col_unique_values = list(df[_col].unique())\n",
    "        list_len = len(current_col_unique_values) \n",
    "        \n",
    "        if(list_len > unique_max_count):\n",
    "            unique_max_count = list_len\n",
    "    \n",
    "    # list of each_cols and unique values\n",
    "    col_unique_values = {}\n",
    "    \n",
    "    for _col in cols:\n",
    "#         print(_col)\n",
    "        current_col_unique_values = list(df[_col].unique())\n",
    "        list_len = len(current_col_unique_values) \n",
    "        \n",
    "        fill_count = 0\n",
    "        if(list_len < unique_max_count):\n",
    "            fill_count = unique_max_count - list_len\n",
    "            \n",
    "            for _ in range(fill_count):\n",
    "                current_col_unique_values.append('-')\n",
    "        \n",
    "        col_unique_values[_col] = current_col_unique_values\n",
    "        \n",
    "    df_new = pd.DataFrame(col_unique_values)\n",
    "    \n",
    "    return df_new\n",
    "\n",
    "users = pd.DataFrame({\n",
    "    \"name\": ['kevin', 'james', 'kumar', 'kevin', 'kevin', 'james'], \n",
    "    \"city\": ['Toronto', 'Montreal', 'Calgary', 'Montreal', 'Montreal', 'Ottawa'],\n",
    "    \"count\" : [7, 8, 9, 2, 7, 8] \n",
    "    \n",
    "}) \n",
    "\n",
    "unique_user_items = get_unique_items(users)\n",
    "\n",
    "unique_user_items"
   ]
  },
  {
   "cell_type": "markdown",
   "metadata": {},
   "source": [
    "To do:\n",
    "\n",
    "* Clean up some buggy exercises\n",
    "* Remove duplicate exercises\n",
    "* Add more documentation"
   ]
  },
  {
   "cell_type": "markdown",
   "metadata": {},
   "source": [
    "**Final Notes:**\n",
    "\n",
    "I am adding things still. You can come back and check for more information.\n",
    "\n",
    "Also, if you **like my notebook**, <font style=\"color:blue;size:14px;\">please upvote it</font> as it will motivate me to come up with better approach in the upcoming notebooks."
   ]
  },
  {
   "cell_type": "markdown",
   "metadata": {},
   "source": [
    "<font color=\"blue\" size=+1.5><b>Check out my other kernels</b></font>\n",
    "\n",
    "<table style=\"font-family: 'Trebuchet MS', Arial, Helvetica, sans-serif;border-collapse: collapse;width: 100%;\">\t\n",
    "  <tr>\n",
    "    <th style=\"border: 1px solid #ddd;padding: 8px; padding-top: 12px;padding-bottom: 12px;text-align: left;background-color: #2987E7;color: white;\">Notebook</th>\n",
    "    <th style=\"border: 1px solid #ddd;padding: 8px; padding-top: 12px;padding-bottom: 12px;text-align: left;background-color: #2987E7;color: white;\">Tags</th>\n",
    "  </tr>\n",
    "  <tr>\n",
    "    <td style=\"text-align: left\"><a href=\"https://www.kaggle.com/rajacsp/reviews-with-nlp-wip\">Amazon Alexa Reviews with NLP</a> </td>\n",
    "    <td style=\"text-align: left\">NLP, Spacy</td>\n",
    "  </tr>\n",
    "  <tr>\n",
    "    <td style=\"text-align: left\"><a href=\"https://www.kaggle.com/rajacsp/sof-questions-eda-and-visual\">SOF Questions - EDA and Visual</a> </td>\n",
    "    <td style=\"text-align: left\">Data Visual, Plotly</td>\n",
    "  </tr>\n",
    "  <tr>\n",
    "    <td style=\"background-color: #f2f2f2;text-align: left\"><a href=\"https://www.kaggle.com/rajacsp/netflix-visualization-plotly-plots-treemap\">Netflix - Visualization, Plotly, Plots, and Treemap</a> </td>\n",
    "    <td style=\"background-color: #f2f2f2;text-align: left\">Data Visual, Data Cleaning, Plotly</td>\n",
    "  </tr>\n",
    "  <tr>\n",
    "    <td style=\"text-align: left\"><a href=\"https://www.kaggle.com/rajacsp/prediction-with-various-algorithms\">Prediction with various Algorithms</a> </td>\n",
    "    <td style=\"text-align: left\">Random Forest, Logistic Regression</td>\n",
    "  </tr>\n",
    "  <tr>\n",
    "    <td style=\"background-color: #f2f2f2;text-align: left\"><a href=\"https://www.kaggle.com/rajacsp/eda-and-visualization\">EDA and Visualization</a> </td>\n",
    "    <td style=\"background-color: #f2f2f2;text-align: left\">Data Cleaning, Data Visual</td>\n",
    "  </tr>\n",
    "  <tr>\n",
    "    <td style=\"text-align: left\"><a href=\"https://www.kaggle.com/rajacsp/job-analysis-eda-visual\">Job Analysis - EDA and Visual</a> </td>\n",
    "    <td style=\"text-align: left\">Data Visual, EDA, Plotly</td>\n",
    "  </tr>   \n",
    "  <tr>\n",
    "    <td style=\"background-color: #f2f2f2;text-align: left\"><a href=\"https://www.kaggle.com/rajacsp/estonia-disaster-visualization\">Estonia Disaster - Visualization</a> </td>\n",
    "    <td style=\"background-color: #f2f2f2;text-align: left\">Data Visual, EDA, Data Cleaning</td>\n",
    "  </tr>\n",
    "    \n",
    "  <tr>\n",
    "    <td style=\"text-align: left\"><a href=\"https://www.kaggle.com/rajacsp/pandas-dundas-challenge-100\" >Pandas 100+ exercises collection</a></td>\n",
    "    <td style=\"text-align: left\">Pandas, Data Manipulation</td>\n",
    "  </tr>   \n",
    "  <tr>\n",
    "    <td style=\"background-color: #f2f2f2;text-align: left\"><a href=\"https://www.kaggle.com/rajacsp/prediction-with-various-algorithms\">Credit Card Fraud - Prediction with various algorithms</a></td>\n",
    "    <td style=\"background-color: #f2f2f2;text-align: left\">Various ML Algorithms</td>\n",
    "  </tr>  \n",
    "  <tr>\n",
    "    <td style=\"text-align: left\"><a href=\"https://www.kaggle.com/rajacsp/linear-equations-real-time\">Linear Equations - Real Time</a> </td>\n",
    "    <td style=\"text-align: left\">Linear Equation</td>\n",
    "  </tr>  \n",
    "</table>\n",
    "\n"
   ]
  }
 ],
 "metadata": {
  "kernelspec": {
   "display_name": "Python 3",
   "language": "python",
   "name": "python3"
  },
  "language_info": {
   "codemirror_mode": {
    "name": "ipython",
    "version": 3
   },
   "file_extension": ".py",
   "mimetype": "text/x-python",
   "name": "python",
   "nbconvert_exporter": "python",
   "pygments_lexer": "ipython3",
   "version": "3.8.5"
  }
 },
 "nbformat": 4,
 "nbformat_minor": 4
}
